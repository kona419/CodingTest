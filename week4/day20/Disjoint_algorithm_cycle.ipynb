{
 "cells": [
  {
   "cell_type": "code",
   "execution_count": 1,
   "id": "8ad4791c",
   "metadata": {},
   "outputs": [
    {
     "name": "stdout",
     "output_type": "stream",
     "text": [
      "3 3\n",
      "1 2\n",
      "1 3\n",
      "2 3\n",
      "사이클 발생\n"
     ]
    }
   ],
   "source": [
    "v, e = map(int, input().split())\n",
    "parent = [0]*(v+1)\n",
    "\n",
    "for i in range(1, v+1):\n",
    "    parent[i]=i\n",
    "    \n",
    "def find_parent(parent,x):\n",
    "    if parent[x] != x:\n",
    "        parent[x] = find_parent(parent, parent[x])\n",
    "    return parent[x]\n",
    "\n",
    "def union_parent(parent,a,b):\n",
    "    a = find_parent(parent,a)\n",
    "    b = find_parent(parent,b)\n",
    "    if a<b :\n",
    "        parent[b]=a\n",
    "    else:\n",
    "        parent[a]=b\n",
    "        \n",
    "cycle = False    \n",
    "\n",
    "for i in range(e):\n",
    "    a,b = map(int, input().split())\n",
    "    if find_parent(parent,a) == find_parent(parent,b):    # 사이클 발생 확인\n",
    "        cycle = True \n",
    "        break\n",
    "    else:\n",
    "        union_parent(parent, a, b)\n",
    "        \n",
    "if cycle:\n",
    "    print('사이클 발생')\n",
    "else:\n",
    "    print('사이클 없음')"
   ]
  }
 ],
 "metadata": {
  "kernelspec": {
   "display_name": "Python 3 (ipykernel)",
   "language": "python",
   "name": "python3"
  },
  "language_info": {
   "codemirror_mode": {
    "name": "ipython",
    "version": 3
   },
   "file_extension": ".py",
   "mimetype": "text/x-python",
   "name": "python",
   "nbconvert_exporter": "python",
   "pygments_lexer": "ipython3",
   "version": "3.9.12"
  }
 },
 "nbformat": 4,
 "nbformat_minor": 5
}
