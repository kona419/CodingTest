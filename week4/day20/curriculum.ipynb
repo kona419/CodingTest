{
 "cells": [
  {
   "cell_type": "code",
   "execution_count": 4,
   "id": "cf36cbff",
   "metadata": {},
   "outputs": [
    {
     "name": "stdout",
     "output_type": "stream",
     "text": [
      "5\n",
      "10 -1\n",
      "10 1 -1\n",
      "4 1 -1\n",
      "4 3 1 -1\n",
      "3 3 -1\n",
      "10\n",
      "20\n",
      "14\n",
      "18\n",
      "17\n"
     ]
    }
   ],
   "source": [
    "from collections import deque\n",
    "import copy\n",
    "\n",
    "n = int(input())\n",
    "graph = [[] for i in range(n+1)]\n",
    "\n",
    "time = [0]*(n+1)\n",
    "\n",
    "indegree = [0]*(n+1)\n",
    "\n",
    "for i in range(1, n+1):\n",
    "    data = list(map(int, input().split()))\n",
    "    time[i] = data[0]\n",
    "    for x in data[1:-1]:\n",
    "        indegree[i] += 1\n",
    "        graph[x].append(i)\n",
    "        \n",
    "def topology_sort():\n",
    "    result = copy.deepcopy(time)\n",
    "    q = deque()\n",
    "    \n",
    "    for i in range(1, n+1):\n",
    "        if indegree[i] == 0:\n",
    "            q.append(i)\n",
    "    while q:\n",
    "        now = q.popleft()\n",
    "        for i in graph[now]:\n",
    "            result[i] = max(result[i], result[now]+time[i])\n",
    "            indegree[i] -= 1\n",
    "            if indegree[i] == 0:\n",
    "                q.append(i)\n",
    "    for i in range(1, n+1):\n",
    "        print(result[i])\n",
    "\n",
    "topology_sort()"
   ]
  },
  {
   "cell_type": "markdown",
   "id": "aae9b415",
   "metadata": {},
   "source": [
    "위상정렬은 더 공부해봐야겠다ㅜㅜ"
   ]
  }
 ],
 "metadata": {
  "kernelspec": {
   "display_name": "Python 3 (ipykernel)",
   "language": "python",
   "name": "python3"
  },
  "language_info": {
   "codemirror_mode": {
    "name": "ipython",
    "version": 3
   },
   "file_extension": ".py",
   "mimetype": "text/x-python",
   "name": "python",
   "nbconvert_exporter": "python",
   "pygments_lexer": "ipython3",
   "version": "3.9.12"
  }
 },
 "nbformat": 4,
 "nbformat_minor": 5
}
