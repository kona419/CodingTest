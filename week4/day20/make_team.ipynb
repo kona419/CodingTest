{
 "cells": [
  {
   "cell_type": "code",
   "execution_count": 3,
   "id": "85904148",
   "metadata": {},
   "outputs": [
    {
     "name": "stdout",
     "output_type": "stream",
     "text": [
      "7 8\n",
      "0 1 3\n",
      "1 1 7\n",
      "no\n",
      "0 7 6\n",
      "1 7 1\n",
      "no\n",
      "0 3 7\n",
      "0 4 2\n",
      "0 1 1\n",
      "1 1 1\n",
      "yes\n"
     ]
    }
   ],
   "source": [
    "# my answer\n",
    "n,m = map(int, input().split())\n",
    "parent = [0]*100001\n",
    "\n",
    "for i in range(1, n+1):\n",
    "    parent[i] = i\n",
    "\n",
    "def find_parent(parent,x):\n",
    "    if parent[x] != x:\n",
    "        parent[x] = find_parent(parent, parent[x])\n",
    "    return parent[x]\n",
    "\n",
    "def union(parent,a,b):\n",
    "    a = find_parent(parent, a)\n",
    "    b = find_parent(parent, b)\n",
    "    if a < b:\n",
    "        parent[b] = a\n",
    "    else:\n",
    "        parent[a] = b\n",
    "        \n",
    "def check(parent,a,b):\n",
    "    a = find_parent(parent, a)\n",
    "    b = find_parent(parent, b)\n",
    "    if a == b :\n",
    "        print('yes')\n",
    "    else:\n",
    "        print('no')\n",
    "    \n",
    "\n",
    "for i in range(m):\n",
    "    c,a,b = map(int, input().split())\n",
    "    if c == 0:\n",
    "        union(parent,a,b)\n",
    "    else:\n",
    "        check(parent,a,b)"
   ]
  },
  {
   "cell_type": "code",
   "execution_count": 3,
   "id": "7febc00c",
   "metadata": {},
   "outputs": [
    {
     "name": "stdout",
     "output_type": "stream",
     "text": [
      "7 8\n",
      "0 1 3\n",
      "1 1 7\n",
      "no\n",
      "0 7 6\n",
      "1 7 1\n",
      "no\n",
      "0 3 7\n",
      "0 4 2\n",
      "0 1 1\n",
      "1 1 1\n",
      "yes\n"
     ]
    }
   ],
   "source": [
    "# book answer\n",
    "n,m = map(int, input().split())\n",
    "parent = [0]*(n+1)\n",
    "\n",
    "for i in range(1, n+1):\n",
    "    parent[i] = i\n",
    "\n",
    "def find_parent(parent,x):\n",
    "    if parent[x] != x:\n",
    "        parent[x] = find_parent(parent, parent[x])\n",
    "    return parent[x]\n",
    "\n",
    "def union(parent,a,b):\n",
    "    a = find_parent(parent, a)\n",
    "    b = find_parent(parent, b)\n",
    "    if a < b:\n",
    "        parent[b] = a\n",
    "    else:\n",
    "        parent[a] = b\n",
    "    \n",
    "\n",
    "for i in range(m):\n",
    "    c,a,b = map(int, input().split())\n",
    "    if c == 0:\n",
    "        union(parent,a,b)\n",
    "    elif c == 1:\n",
    "        if find_parent(parent, a) == find_parent(parent, b) :\n",
    "            print('yes')\n",
    "        else:\n",
    "            print('no')"
   ]
  },
  {
   "cell_type": "markdown",
   "id": "a5e0de6f",
   "metadata": {},
   "source": [
    "나는 같은 팀 여부 확인을 따로 함수로 구현하였다. 책과의 차이는 그뿐이다.\n",
    "\n",
    "그런데 책에서도 답을 출력할때 확인을 할 때마다 no/yes 를 출력하게 했다.\n",
    "\n",
    "문제에서 원하는 출력예시는 한번에 no/yes를 출력하는거 같은데..\n",
    "\n",
    "그래서 추가적을 구현해보았다."
   ]
  },
  {
   "cell_type": "code",
   "execution_count": 5,
   "id": "01a020d7",
   "metadata": {},
   "outputs": [
    {
     "name": "stdout",
     "output_type": "stream",
     "text": [
      "7 8\n",
      "0 1 3\n",
      "1 1 7\n",
      "0 7 6\n",
      "1 7 1\n",
      "0 3 7\n",
      "0 4 2\n",
      "0 1 1\n",
      "1 1 1\n",
      "no\n",
      "no\n",
      "yes\n"
     ]
    }
   ],
   "source": [
    "# 추가 구현\n",
    "n,m = map(int, input().split())\n",
    "parent = [0]*100001\n",
    "\n",
    "for i in range(1, n+1):\n",
    "    parent[i] = i\n",
    "\n",
    "def find_parent(parent,x):\n",
    "    if parent[x] != x:\n",
    "        parent[x] = find_parent(parent, parent[x])\n",
    "    return parent[x]\n",
    "\n",
    "def union(parent,a,b):\n",
    "    a = find_parent(parent, a)\n",
    "    b = find_parent(parent, b)\n",
    "    if a < b:\n",
    "        parent[b] = a\n",
    "    else:\n",
    "        parent[a] = b\n",
    "        \n",
    "answer = []\n",
    "        \n",
    "def check(parent,a,b):\n",
    "    a = find_parent(parent, a)\n",
    "    b = find_parent(parent, b)\n",
    "    if a == b :\n",
    "        answer.append('yes')\n",
    "    else:\n",
    "        answer.append('no')\n",
    "    \n",
    "\n",
    "for i in range(m):\n",
    "    c,a,b = map(int, input().split())\n",
    "    if c == 0:\n",
    "        union(parent,a,b)\n",
    "    else:\n",
    "        check(parent,a,b)\n",
    "\n",
    "for i in range(len(answer)):\n",
    "    print(answer[i])"
   ]
  },
  {
   "cell_type": "code",
   "execution_count": null,
   "id": "d62fa55f",
   "metadata": {},
   "outputs": [],
   "source": []
  }
 ],
 "metadata": {
  "kernelspec": {
   "display_name": "Python 3 (ipykernel)",
   "language": "python",
   "name": "python3"
  },
  "language_info": {
   "codemirror_mode": {
    "name": "ipython",
    "version": 3
   },
   "file_extension": ".py",
   "mimetype": "text/x-python",
   "name": "python",
   "nbconvert_exporter": "python",
   "pygments_lexer": "ipython3",
   "version": "3.9.12"
  }
 },
 "nbformat": 4,
 "nbformat_minor": 5
}
