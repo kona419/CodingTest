{
 "cells": [
  {
   "cell_type": "code",
   "execution_count": 8,
   "id": "da441a27",
   "metadata": {},
   "outputs": [
    {
     "name": "stdout",
     "output_type": "stream",
     "text": [
      "7 12\n",
      "1 2 3\n",
      "1 3 2\n",
      "3 2 1\n",
      "2 5 2\n",
      "3 4 4\n",
      "7 3 6\n",
      "5 1 5\n",
      "1 6 2\n",
      "6 4 1\n",
      "6 5 3\n",
      "4 5 3\n",
      "6 7 4\n",
      "8\n"
     ]
    }
   ],
   "source": [
    "# my answer\n",
    "n,m = map(int, input().split())\n",
    "\n",
    "edges = []\n",
    "parent = [0]*(n+1)\n",
    "\n",
    "for i in range(m):\n",
    "    a,b,c = map(int, input().split())\n",
    "    edges.append((c,a,b))\n",
    "    \n",
    "edges.sort()\n",
    "result = 0\n",
    "\n",
    "def find_parent(parent,x):\n",
    "    if parent[x] != x:\n",
    "        parent[x] = find_parent(parent, parent[x])\n",
    "    return parent[x]\n",
    "\n",
    "def union(parent,a, b):\n",
    "    a = find_parent(parent,a)\n",
    "    b = find_parent(parent,b)\n",
    "    if a < b:\n",
    "        parent[b] = a\n",
    "    else:\n",
    "        parent[a] = b\n",
    "        \n",
    "for i in range(1, n+1):\n",
    "    parent[i] = i\n",
    "    \n",
    "new = []\n",
    "    \n",
    "for edge in edges:\n",
    "    c,a,b = edge\n",
    "    if find_parent(parent, a) != find_parent(parent, b):\n",
    "        union(parent,a,b)\n",
    "        new.append((c,a,b))\n",
    "        \n",
    "new.sort()\n",
    "new.pop()\n",
    "\n",
    "for edge in new:\n",
    "    c,a,b = edge\n",
    "    result += c\n",
    "    \n",
    "print(result)\n"
   ]
  },
  {
   "cell_type": "code",
   "execution_count": 10,
   "id": "1f31c90c",
   "metadata": {},
   "outputs": [
    {
     "name": "stdout",
     "output_type": "stream",
     "text": [
      "7 12\n",
      "1 2 3\n",
      "1 3 2\n",
      "3 2 1\n",
      "2 5 2\n",
      "3 4 4\n",
      "7 3 6\n",
      "5 1 5\n",
      "1 6 2\n",
      "6 4 1\n",
      "6 5 3\n",
      "4 5 3\n",
      "6 7 4\n",
      "8\n"
     ]
    }
   ],
   "source": [
    "# book answer\n",
    "\n",
    "def find_parent(parent,x):\n",
    "    if parent[x] != x:\n",
    "        parent[x] = find_parent(parent, parent[x])\n",
    "    return parent[x]\n",
    "\n",
    "def union(parent,a, b):\n",
    "    a = find_parent(parent,a)\n",
    "    b = find_parent(parent,b)\n",
    "    if a < b:\n",
    "        parent[b] = a\n",
    "    else:\n",
    "        parent[a] = b\n",
    "        \n",
    "n,m = map(int, input().split())\n",
    "\n",
    "edges = []\n",
    "parent = [0]*(n+1)\n",
    "result = 0\n",
    "\n",
    "for i in range(1, n+1):\n",
    "    parent[i] = i\n",
    "    \n",
    "for i in range(m):\n",
    "    a,b,c = map(int, input().split())\n",
    "    edges.append((c,a,b))\n",
    "    \n",
    "edges.sort()\n",
    "last = 0\n",
    "\n",
    "for edge in edges:\n",
    "    c,a,b = edge\n",
    "    if find_parent(parent, a) != find_parent(parent, b):\n",
    "        union(parent,a,b)\n",
    "        result += c\n",
    "        last = c                # sort 한 상태에서 for문을 돌리니까 맨 마지막 cost가 제일 큰 수\n",
    "        \n",
    "print(result - last)"
   ]
  },
  {
   "cell_type": "markdown",
   "id": "62f3ea12",
   "metadata": {},
   "source": [
    "최소 신장 트리를 찾은 뒤에 비용이 가장 큰 간선 하나를 제거하면 된다.\n",
    "\n",
    "나는 비용이 가장 큰 간선을 찾기 위해 새로 리스트를 설정해주었다.\n",
    "\n",
    "책은 이미 정렬한 상태에서 for문을 돌리니까 cost가 점점 큰 수로 갱신되는 것을 이용했다."
   ]
  },
  {
   "cell_type": "code",
   "execution_count": null,
   "id": "4c080e7c",
   "metadata": {},
   "outputs": [],
   "source": []
  }
 ],
 "metadata": {
  "kernelspec": {
   "display_name": "Python 3 (ipykernel)",
   "language": "python",
   "name": "python3"
  },
  "language_info": {
   "codemirror_mode": {
    "name": "ipython",
    "version": 3
   },
   "file_extension": ".py",
   "mimetype": "text/x-python",
   "name": "python",
   "nbconvert_exporter": "python",
   "pygments_lexer": "ipython3",
   "version": "3.9.12"
  }
 },
 "nbformat": 4,
 "nbformat_minor": 5
}
