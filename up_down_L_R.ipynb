{
 "cells": [
  {
   "cell_type": "code",
   "execution_count": 1,
   "id": "f81784c9",
   "metadata": {},
   "outputs": [
    {
     "data": {
      "text/plain": [
       "'n = int(input())\\nplan = input().split()\\n\\nj=1\\nk=1\\n\\nfor i in range(len(plan)): \\n    while (0<j and j<=n and 0<k and k<=n):\\n        if plan == \"L\":\\n            start = [j, k-1]\\n        elif plan == \"R\":\\n            start = [j, k+1]\\n        elif plan == \"U\":\\n            start = [j-1, k]\\n        else:\\n            start = [j+1, k]\\n    \\n        \\nprint(start)'"
      ]
     },
     "execution_count": 1,
     "metadata": {},
     "output_type": "execute_result"
    }
   ],
   "source": [
    "#내 답 #15분 안에 해결 못함\n",
    "'''n = int(input())\n",
    "plan = input().split()\n",
    "\n",
    "j=1\n",
    "k=1\n",
    "\n",
    "for i in range(len(plan)): \n",
    "    while (0<j and j<=n and 0<k and k<=n):\n",
    "        if plan == \"L\":\n",
    "            start = [j, k-1]\n",
    "        elif plan == \"R\":\n",
    "            start = [j, k+1]\n",
    "        elif plan == \"U\":\n",
    "            start = [j-1, k]\n",
    "        else:\n",
    "            start = [j+1, k]\n",
    "    \n",
    "        \n",
    "print(start)'''"
   ]
  },
  {
   "cell_type": "code",
   "execution_count": 2,
   "id": "8395e2cb",
   "metadata": {},
   "outputs": [
    {
     "name": "stdout",
     "output_type": "stream",
     "text": [
      "5\n",
      "R R R U D D\n",
      "3 4\n"
     ]
    }
   ],
   "source": [
    "#정답\n",
    "\n",
    "n = int(input())\n",
    "plans = input().split()\n",
    "\n",
    "x=1\n",
    "y=1\n",
    "\n",
    "dx = [0,0,-1,1]\n",
    "dy = [-1,1,0,0]\n",
    "move = ['L', 'R', 'U', 'D']\n",
    "\n",
    "for plan in plans :\n",
    "    for i in range(len(move)):\n",
    "        if plan == move[i]:\n",
    "            nx = x + dx[i]\n",
    "            ny = y + dy[i]\n",
    "            \n",
    "    if nx<1 or ny<1 or nx>n or ny>n :\n",
    "        continue\n",
    "    x,y = nx,ny\n",
    "    \n",
    "print(x,y)\n",
    "\n",
    "\n"
   ]
  },
  {
   "cell_type": "code",
   "execution_count": 3,
   "id": "5dcb366e",
   "metadata": {},
   "outputs": [
    {
     "name": "stdout",
     "output_type": "stream",
     "text": [
      "5\n",
      "R R D D\n",
      "[3, 3]\n",
      "['R', 'R', 'D', 'D']\n"
     ]
    }
   ],
   "source": [
    "#다시 풀어본 거. 예외처리x\n",
    "n = int(input())\n",
    "plan = list(input().split())\n",
    "\n",
    "x=1\n",
    "y=1\n",
    "\n",
    "for i in range(len(plan)): \n",
    "    if plan[i] == 'L':\n",
    "        y = y-1\n",
    "    elif plan[i] == 'R':\n",
    "        y = y+1\n",
    "    elif plan[i] == 'U':\n",
    "        x = x-1\n",
    "    else:\n",
    "        x = x+1\n",
    "\n",
    "        \n",
    "print([x, y])\n",
    "print(plan)"
   ]
  },
  {
   "cell_type": "code",
   "execution_count": 11,
   "id": "b35c317a",
   "metadata": {},
   "outputs": [
    {
     "name": "stdout",
     "output_type": "stream",
     "text": [
      "5\n",
      "R R R U D D\n",
      "[1, 2]\n",
      "[1, 3]\n",
      "[1, 4]\n",
      "[0, 4]\n",
      "[1, 4]\n",
      "[2, 4]\n",
      "[2, 5]\n",
      "[2, 6]\n",
      "[2, 7]\n",
      "[1, 7]\n",
      "[2, 7]\n",
      "[3, 7]\n",
      "[3, 8]\n",
      "[3, 9]\n",
      "[3, 10]\n",
      "[2, 10]\n",
      "[3, 10]\n",
      "[4, 10]\n",
      "[4, 11]\n",
      "[4, 12]\n",
      "[4, 13]\n",
      "[3, 13]\n",
      "[4, 13]\n",
      "[5, 13]\n",
      "[5, 14]\n",
      "[5, 15]\n",
      "[5, 16]\n",
      "[4, 16]\n",
      "[5, 16]\n",
      "[6, 16]\n",
      "[6, 17]\n",
      "[6, 18]\n",
      "[6, 19]\n",
      "[5, 19]\n",
      "[6, 19]\n",
      "[7, 19]\n",
      "[2, 4]\n",
      "['R', 'R', 'R', 'U', 'D', 'D']\n"
     ]
    }
   ],
   "source": [
    "#포기ㅜㅜ\n",
    "n = int(input())\n",
    "plan = list(input().split())\n",
    "\n",
    "x=1\n",
    "y=1\n",
    "a=1\n",
    "b=1\n",
    "\n",
    "for k in plan:\n",
    "    for i in range(len(plan)): \n",
    "        \n",
    "        if plan[i] == 'L':\n",
    "            y = y-1\n",
    "            print([x, y])\n",
    "        elif plan[i] == 'R':\n",
    "            y = y+1\n",
    "            print([x, y])\n",
    "        elif plan[i] == 'U':\n",
    "            x = x-1\n",
    "            print([x, y])\n",
    "        elif plan[i] == 'D':\n",
    "            x = x+1\n",
    "            print([x, y])\n",
    "    if x<1 or y<1 or x>n or y>n :\n",
    "        continue \n",
    "    a,b=x,y\n",
    "\n",
    "print([a, b])\n",
    "print(plan)"
   ]
  },
  {
   "cell_type": "code",
   "execution_count": null,
   "id": "7392127f",
   "metadata": {},
   "outputs": [],
   "source": []
  }
 ],
 "metadata": {
  "kernelspec": {
   "display_name": "Python 3 (ipykernel)",
   "language": "python",
   "name": "python3"
  },
  "language_info": {
   "codemirror_mode": {
    "name": "ipython",
    "version": 3
   },
   "file_extension": ".py",
   "mimetype": "text/x-python",
   "name": "python",
   "nbconvert_exporter": "python",
   "pygments_lexer": "ipython3",
   "version": "3.9.12"
  }
 },
 "nbformat": 4,
 "nbformat_minor": 5
}
