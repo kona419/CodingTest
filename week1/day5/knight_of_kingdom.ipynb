{
 "cells": [
  {
   "cell_type": "code",
   "execution_count": 8,
   "id": "7c0aed82",
   "metadata": {},
   "outputs": [
    {
     "name": "stdout",
     "output_type": "stream",
     "text": [
      "1 \n",
      "2\n",
      "0\n"
     ]
    }
   ],
   "source": [
    "board = [8,8]\n",
    "\n",
    "count = 0\n",
    "\n",
    "ava = [(2,1), (2,-1), (-2,1), (-2,-1), (1,2), (1,-2), (-1,2), (-1,-2)]\n",
    "ans = []\n",
    "\n",
    "x = int(input())\n",
    "y = int(input())\n",
    "\n",
    "a,b=1,1\n",
    "\n",
    "#값이 체스판 위에 있는 범위 안에서\n",
    "while x>0 and x<9 and y>0 and y>9:\n",
    "    ans = (x,y)+ava[i]\n",
    "    count+=1\n",
    "    \n",
    "print(count)"
   ]
  },
  {
   "cell_type": "code",
   "execution_count": 14,
   "id": "bc85d2c0",
   "metadata": {},
   "outputs": [
    {
     "name": "stdout",
     "output_type": "stream",
     "text": [
      "a1\n",
      "2\n"
     ]
    }
   ],
   "source": [
    "#정답\n",
    "input_data = input()\n",
    "y = int(input_data[1])\n",
    "x = int(ord(input_data[0])) - int(ord('a')) + 1\n",
    "\n",
    "steps = [(2,1), (2,-1), (-2,1), (-2,-1), (1,2), (1,-2), (-1,2), (-1,-2)]\n",
    "\n",
    "result = 0\n",
    "\n",
    "for step in steps:\n",
    "    next_y = y + step[0]\n",
    "    next_x = x + step[1]\n",
    "    if next_x>0 and next_x<9 and next_y>0 and next_y<9:\n",
    "        result += 1\n",
    "print(result)"
   ]
  },
  {
   "cell_type": "markdown",
   "id": "9bfa5cfc",
   "metadata": {},
   "source": [
    "못 푼 이유\n",
    "1. 문자와 숫자 입력을 어떻게 같이 받아야할지 몰랐다. 일단 한방에 받고 배열로 자른다는 생각을 못함. 그리고 문자열 처리를 유니코드로 변환해서 할 \n",
    "2. 이동의 경우를 어떻게 처리할지 몰랐다.\n",
    "3. 범위 밖을 나가지 못하도록 하는 것이 생각이 안났다.\n",
    "\n",
    "나는 바보다....ㅜㅜ 뇌가 멈춘 느낌이였다ㅜㅜㅜㅜ\n",
    "비슷한 유형의 문제를 분명 전에 풀었는데ㅜㅜ"
   ]
  }
 ],
 "metadata": {
  "kernelspec": {
   "display_name": "Python 3 (ipykernel)",
   "language": "python",
   "name": "python3"
  },
  "language_info": {
   "codemirror_mode": {
    "name": "ipython",
    "version": 3
   },
   "file_extension": ".py",
   "mimetype": "text/x-python",
   "name": "python",
   "nbconvert_exporter": "python",
   "pygments_lexer": "ipython3",
   "version": "3.9.12"
  }
 },
 "nbformat": 4,
 "nbformat_minor": 5
}
