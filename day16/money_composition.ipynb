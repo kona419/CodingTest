{
 "cells": [
  {
   "cell_type": "code",
   "execution_count": 11,
   "id": "8f937c82",
   "metadata": {},
   "outputs": [
    {
     "name": "stdout",
     "output_type": "stream",
     "text": [
      "2 15\n",
      "2\n",
      "3\n",
      "5\n"
     ]
    }
   ],
   "source": [
    "#내답1\n",
    "n,m = map(int, input().split())\n",
    "\n",
    "money_type = []\n",
    "for i in range(n):\n",
    "    a = int(input())\n",
    "    money_type.append(a)\n",
    "    \n",
    "d = []\n",
    "    \n",
    "for i in range(10):\n",
    "    for j in range(10):\n",
    "        for k in range(n):\n",
    "            if money_type[-k]*i + money_type[-k-1]*j == m:\n",
    "                d.append(i+j)\n",
    "if d :\n",
    "    print(min(d))\n",
    "    \n",
    "else:\n",
    "    print('-1')"
   ]
  },
  {
   "cell_type": "code",
   "execution_count": 4,
   "id": "4fb1f405",
   "metadata": {},
   "outputs": [
    {
     "name": "stdout",
     "output_type": "stream",
     "text": [
      "3 4\n",
      "3\n",
      "5\n",
      "7\n",
      "-1\n"
     ]
    }
   ],
   "source": [
    "#내답2\n",
    "n,m = map(int, input().split())\n",
    "\n",
    "money_type = []\n",
    "for i in range(n):\n",
    "    a = int(input())\n",
    "    money_type.append(a)\n",
    "    \n",
    "d = []\n",
    "breaker = True\n",
    "    \n",
    "for k in range(n):\n",
    "    for j in range(10001):\n",
    "        for i in range(10001):\n",
    "            if money_type[-k]*i + money_type[-k-1]*j == m:\n",
    "                d.append(i+j)\n",
    "                breaker=False\n",
    "                break\n",
    "                \n",
    "        if breaker == False:\n",
    "            break\n",
    "if d :\n",
    "    print(min(d))\n",
    "    \n",
    "else:\n",
    "    print('-1')"
   ]
  },
  {
   "cell_type": "code",
   "execution_count": 10,
   "id": "079e35f2",
   "metadata": {},
   "outputs": [
    {
     "name": "stdout",
     "output_type": "stream",
     "text": [
      "2 15\n",
      "2\n",
      "3\n",
      "5\n"
     ]
    }
   ],
   "source": [
    "#정답\n",
    "\n",
    "n,m = map(int, input().split())\n",
    "\n",
    "array = []\n",
    "for i in range(n):\n",
    "    a = int(input())\n",
    "    array.append(a)\n",
    "    \n",
    "d = [10001] * (m+1)\n",
    "\n",
    "d[0]=0\n",
    "for i in range(n):\n",
    "    for j in range(array[i], m+1):\n",
    "        if d[j-array[i]] != 10001:\n",
    "            d[j] = min(d[j], d[j-array[i]]+1)\n",
    "            \n",
    "if d[m] == 10001:\n",
    "    print(-1)\n",
    "else:\n",
    "    print(d[m])"
   ]
  },
  {
   "cell_type": "markdown",
   "id": "d729cab3",
   "metadata": {},
   "source": [
    "1.정답 코드를 해석하면 답이 나오고 이해가 되긴 된다..\n",
    "\n",
    "근데 이런 점화식을 어떻게 내가 생각해서 세우는 거지...?"
   ]
  },
  {
   "cell_type": "markdown",
   "id": "46b95b61",
   "metadata": {},
   "source": [
    "2.내가 생각한 답이 맞긴 맞다. 그러나 문제에서는 i와 j가 제한이 없다고 했다. 아마 최대가 10001일꺼 같은데.\n",
    "\n",
    "나의 답은 for문을 세번이나써서 시간이 너무오래 걸린다. O(n^3)이니까....ㅜㅜ \n",
    "\n",
    "범위도 큰데, for문도 세번이면 분명 타임아웃이 나올 것이다ㅜㅜ"
   ]
  },
  {
   "cell_type": "markdown",
   "id": "8858a7b6",
   "metadata": {},
   "source": [
    "3.답2 > 나의 답의 문제에서 시간이 너무 오래 걸리는 것을 보완하고자 break문을 걸었다.\n",
    "\n",
    "만약 입력한 금액을 만들 수 있는 경우에는 시간이 짧지만, 불가능한 경우에는 오래걸린다.\n",
    "\n",
    "-> 주어진 모든 경우의 수를 다 해봐야 불가능 한 것을 알 수 있기 때문이다."
   ]
  },
  {
   "cell_type": "code",
   "execution_count": 5,
   "id": "e7a73c2a",
   "metadata": {},
   "outputs": [
    {
     "name": "stdout",
     "output_type": "stream",
     "text": [
      "3 4\n",
      "3\n",
      "5\n",
      "7\n",
      "-1\n"
     ]
    }
   ],
   "source": [
    "#내답3\n",
    "n,m = map(int, input().split())\n",
    "\n",
    "money_type = []\n",
    "for i in range(n):\n",
    "    a = int(input())\n",
    "    money_type.append(a)\n",
    "    \n",
    "d = []\n",
    "breaker = True\n",
    "possiblity = True\n",
    "\n",
    "for i in range(n):\n",
    "    if m % money_type[i] == 0:\n",
    "        possiblity = True\n",
    "    else:\n",
    "        possiblity = False\n",
    "        \n",
    "        \n",
    "if possiblity == True:\n",
    "    for k in range(n):\n",
    "        for j in range(10001):\n",
    "            for i in range(10001):\n",
    "                if money_type[-k]*i + money_type[-k-1]*j == m:\n",
    "                    d.append(i+j)\n",
    "                    breaker=False\n",
    "                    break\n",
    "                \n",
    "            if breaker == False:\n",
    "                break\n",
    "    \n",
    "    print(min(d))\n",
    "    \n",
    "else:\n",
    "    print('-1')"
   ]
  },
  {
   "cell_type": "markdown",
   "id": "55ab4ce1",
   "metadata": {},
   "source": [
    "4.답3 > 2의 경우를 해결하기 위해서 입력한 금액을 만들 수 없는 경우에 해당하는 조건문을 하나 더 걸었다.\n",
    "\n",
    "아이디어 : 화폐의 종류가 만들어야하는 금액의 약수가 아니라면, 해당 화폐의 종류로는 그 금액을 절대 만들 수 없다. 약수가 최소한 하나라도 있어야 만들 수 있다.\n",
    "\n",
    "  ex) 화폐의 종류 : 3, 5원 / 만들어야하는 금액 : 4원 ==>> 절대 만들 수 없다.\n",
    "  \n",
    "구현 : possibility라는 변수를 새로 만들고, 만약 약수가 하나라도 있다면 True 반환. 단 한개도 없다면 False 반환.\n",
    "\n",
    "       만약 True라면 계산하는 반복문 실행.\n",
    "       \n",
    "       False라면, 그냥 -1 반환."
   ]
  },
  {
   "cell_type": "code",
   "execution_count": null,
   "id": "3a57f963",
   "metadata": {},
   "outputs": [],
   "source": []
  },
  {
   "cell_type": "code",
   "execution_count": null,
   "id": "7287392d",
   "metadata": {},
   "outputs": [],
   "source": []
  }
 ],
 "metadata": {
  "kernelspec": {
   "display_name": "Python 3 (ipykernel)",
   "language": "python",
   "name": "python3"
  },
  "language_info": {
   "codemirror_mode": {
    "name": "ipython",
    "version": 3
   },
   "file_extension": ".py",
   "mimetype": "text/x-python",
   "name": "python",
   "nbconvert_exporter": "python",
   "pygments_lexer": "ipython3",
   "version": "3.9.12"
  }
 },
 "nbformat": 4,
 "nbformat_minor": 5
}
