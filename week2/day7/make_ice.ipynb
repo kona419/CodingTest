{
 "cells": [
  {
   "cell_type": "code",
   "execution_count": null,
   "id": "496e573d",
   "metadata": {},
   "outputs": [],
   "source": [
    "# my answer_ unsolved\n",
    "n,m = map(int, int().split())\n",
    "\n",
    "graph = []\n",
    "\n",
    "for i in range(n):\n",
    "    ice = list(map(int, input()))\n",
    "    ice.append(graph)\n",
    "    \n",
    "def dfs (graph, v, visited):\n",
    "    if graph[v] == 1:\n",
    "        pass\n",
    "    else:\n",
    "        \n",
    "    \n",
    "    visited[v] = 2\n",
    "    for i in graph[v]:\n",
    "        if visited[i] == 0:\n",
    "            dfs(graph, i, visited)"
   ]
  },
  {
   "cell_type": "code",
   "execution_count": 11,
   "id": "feb2c4db",
   "metadata": {},
   "outputs": [
    {
     "name": "stdout",
     "output_type": "stream",
     "text": [
      "3 3\n",
      "001\n",
      "010\n",
      "101\n",
      "3\n"
     ]
    }
   ],
   "source": [
    "#answer\n",
    "\n",
    "n,m = map(int, input().split())\n",
    "\n",
    "graph = []\n",
    "\n",
    "for i in range(n):\n",
    "    ice = list(map(int, input()))\n",
    "    graph.append(ice)\n",
    "    \n",
    "    \n",
    "def dfs(x,y):\n",
    "    if x<=-1 or x>=n or y<=-1 or y>=n:  # 이 부분이 뒤로 가면 안됨. 왜지?\n",
    "        return False  \n",
    "    if graph[x][y] == 0:\n",
    "        graph[x][y] = 1\n",
    "        dfs(x-1,y)\n",
    "        dfs(x,y-1)\n",
    "        dfs(x+1,y)\n",
    "        dfs(x,y+1)\n",
    "        return 1    # 이 부분이 이해가 잘 안간다. \n",
    "                    #원래 0이였을 때 방문해서 1로 바꾸고 상하좌우가 모두 1이면 리턴1을 해줘야하는거 아닌가? \n",
    "                    #모두 1이면 이라는 조건이 없는데..??\n",
    "    \n",
    "    return False  # 만약 1이라면 false 반환\n",
    "\n",
    "count = 0\n",
    "\n",
    "for i in range(n):\n",
    "    for j in range(m):\n",
    "        if dfs(i,j) == 1:\n",
    "            count+=1\n",
    "            \n",
    "print(count)"
   ]
  },
  {
   "cell_type": "markdown",
   "id": "6f038c2b",
   "metadata": {},
   "source": [
    "이해가 안가는 부분 검색해서 찾아보았다.\n",
    "\n",
    "[0,0] 에서 시작해서 그 근처 노드들 중 0인 오른쪽을 1로 바꾸고 true를 리턴해서 \n",
    "또 시작 근처인 노드들 중 0인 아래쪽을 1로 바꾸고\n",
    "0인 애들 다 바꿨으면 True 반환해서 count+=1 한다."
   ]
  },
  {
   "cell_type": "code",
   "execution_count": null,
   "id": "aae9f674",
   "metadata": {},
   "outputs": [],
   "source": []
  }
 ],
 "metadata": {
  "kernelspec": {
   "display_name": "Python 3 (ipykernel)",
   "language": "python",
   "name": "python3"
  },
  "language_info": {
   "codemirror_mode": {
    "name": "ipython",
    "version": 3
   },
   "file_extension": ".py",
   "mimetype": "text/x-python",
   "name": "python",
   "nbconvert_exporter": "python",
   "pygments_lexer": "ipython3",
   "version": "3.9.12"
  }
 },
 "nbformat": 4,
 "nbformat_minor": 5
}
