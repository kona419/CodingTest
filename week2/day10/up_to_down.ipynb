{
 "cells": [
  {
   "cell_type": "code",
   "execution_count": 4,
   "id": "ff5fdc0a",
   "metadata": {},
   "outputs": [
    {
     "name": "stdout",
     "output_type": "stream",
     "text": [
      "3\n",
      "12\n",
      "8\n",
      "9\n",
      "12 9 8 "
     ]
    }
   ],
   "source": [
    "n = int(input())\n",
    "\n",
    "num = []\n",
    "\n",
    "for i in range(n):\n",
    "    num.append(int(input()))\n",
    "    \n",
    "num.sort(reverse=True)  # num = sorted(num, reverse=True)\n",
    "\n",
    "for i in num:\n",
    "    print(i, end = ' ')  # end가 줄바꿈 안하고 이어서 출력하게 함"
   ]
  }
 ],
 "metadata": {
  "kernelspec": {
   "display_name": "Python 3 (ipykernel)",
   "language": "python",
   "name": "python3"
  },
  "language_info": {
   "codemirror_mode": {
    "name": "ipython",
    "version": 3
   },
   "file_extension": ".py",
   "mimetype": "text/x-python",
   "name": "python",
   "nbconvert_exporter": "python",
   "pygments_lexer": "ipython3",
   "version": "3.9.12"
  }
 },
 "nbformat": 4,
 "nbformat_minor": 5
}
