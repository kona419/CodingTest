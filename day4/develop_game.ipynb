{
 "cells": [
  {
   "cell_type": "code",
   "execution_count": 14,
   "id": "72860bcf",
   "metadata": {},
   "outputs": [
    {
     "name": "stdout",
     "output_type": "stream",
     "text": [
      "4 4\n",
      "1 1 0\n",
      "1 1 1 1\n",
      "1 0 0 1\n",
      "1 1 0 1\n",
      "1 1 1 1\n"
     ]
    },
    {
     "ename": "TypeError",
     "evalue": "'list' object is not callable",
     "output_type": "error",
     "traceback": [
      "\u001b[1;31m---------------------------------------------------------------------------\u001b[0m",
      "\u001b[1;31mTypeError\u001b[0m                                 Traceback (most recent call last)",
      "Input \u001b[1;32mIn [14]\u001b[0m, in \u001b[0;36m<cell line: 22>\u001b[1;34m()\u001b[0m\n\u001b[0;32m     22\u001b[0m \u001b[38;5;28;01mfor\u001b[39;00m move \u001b[38;5;129;01min\u001b[39;00m moves:\n\u001b[0;32m     23\u001b[0m     \u001b[38;5;28;01mif\u001b[39;00m d \u001b[38;5;241m==\u001b[39m \u001b[38;5;241m0\u001b[39m:\n\u001b[1;32m---> 24\u001b[0m         \u001b[38;5;28;01mif\u001b[39;00m \u001b[43mmap_info\u001b[49m\u001b[43m(\u001b[49m\u001b[43mx\u001b[49m\u001b[38;5;241;43m-\u001b[39;49m\u001b[38;5;241;43m1\u001b[39;49m\u001b[43m,\u001b[49m\u001b[43my\u001b[49m\u001b[43m)\u001b[49m \u001b[38;5;241m==\u001b[39m \u001b[38;5;241m0\u001b[39m:\n\u001b[0;32m     25\u001b[0m             x \u001b[38;5;241m=\u001b[39m x \u001b[38;5;241m+\u001b[39m move[\u001b[38;5;241m0\u001b[39m][\u001b[38;5;241m0\u001b[39m]\n\u001b[0;32m     26\u001b[0m             y \u001b[38;5;241m=\u001b[39m y \u001b[38;5;241m+\u001b[39m move[\u001b[38;5;241m0\u001b[39m][\u001b[38;5;241m1\u001b[39m]\n",
      "\u001b[1;31mTypeError\u001b[0m: 'list' object is not callable"
     ]
    }
   ],
   "source": [
    "n,m = map(int, input().split())\n",
    "x,y,d = map(int, input().split())\n",
    "\n",
    "map_info = []\n",
    "\n",
    "count = 0\n",
    "\n",
    "for i in range(n):\n",
    "    get = list(map(int, input().split()))\n",
    "    map_info.append(get)\n",
    "\n",
    "\n",
    "def direct():\n",
    "    global d\n",
    "    if d == 0:\n",
    "        d+=3\n",
    "    else:\n",
    "        d-=1\n",
    "        \n",
    "moves = [[-1,0], [0,-1], [1,0], [0,1]]\n",
    "\n",
    "for move in moves:\n",
    "    if d == 0:\n",
    "        if map_info(x-1,y) == 0:\n",
    "            x = x + move[0][0]\n",
    "            y = y + move[0][1]\n",
    "            direct()\n",
    "            count+=1\n",
    "        else:\n",
    "            direct()\n",
    "    elif d == 1:\n",
    "        if map_info(x,y-1) == 0:\n",
    "            x = x + move[1][0]\n",
    "            y = y + move[1][1]\n",
    "            direct()\n",
    "            count+=1\n",
    "        else:\n",
    "            direct()\n",
    "    elif d == 2:\n",
    "        if map_info(x+1,y) == 0:\n",
    "            x = x + move[2][0]\n",
    "            y = y + move[2][1]\n",
    "            direct()\n",
    "            count+=1\n",
    "        else:\n",
    "            direct()\n",
    "    else:\n",
    "        if map_info(x,y+1) == 0:\n",
    "            x = x + move[3][0]\n",
    "            y = y + move[3][1]\n",
    "            direct()\n",
    "            count+=1\n",
    "        else:\n",
    "            direct()\n",
    "\n",
    "print(count)"
   ]
  },
  {
   "cell_type": "code",
   "execution_count": 17,
   "id": "9ff129a3",
   "metadata": {},
   "outputs": [
    {
     "name": "stdout",
     "output_type": "stream",
     "text": [
      "4 4\n",
      "1 1 0\n",
      "1 1 1 1\n",
      "1 0 0 1\n",
      "1 0 0 1\n",
      "1 1 1 1\n",
      "4\n"
     ]
    }
   ],
   "source": [
    "# 정답\n",
    "n,m = map(int, input().split())\n",
    "x,y,direction = map(int, input().split())\n",
    "\n",
    "d = [[0]*m for _ in range(n)]\n",
    "d[x][y] = 1\n",
    "\n",
    "map_info = []\n",
    "\n",
    "for i in range(n):\n",
    "    get = list(map(int, input().split()))\n",
    "    map_info.append(get)\n",
    "\n",
    "dx = [-1,0,1,0]\n",
    "dy = [0,1,0,-1]\n",
    "\n",
    "def turn_left():\n",
    "    global direction\n",
    "    if direction == 0:\n",
    "        direction+=3\n",
    "    else:\n",
    "        direction-=1\n",
    "        \n",
    "count = 1\n",
    "turn_time = 0\n",
    "\n",
    "while True :\n",
    "    turn_left()\n",
    "    nx = x + dx[direction]\n",
    "    ny = y + dy[direction]\n",
    "    \n",
    "    if d[nx][ny] == 0 and map_info[nx][ny] == 0:\n",
    "        d[nx][ny] =1\n",
    "        x = nx\n",
    "        y = ny\n",
    "        count +=1\n",
    "        turn_time = 0\n",
    "        continue\n",
    "    else:\n",
    "        turn_time+=1\n",
    "    if turn_time == 4:\n",
    "        nx = x - dx[direction]\n",
    "        ny = y - dx[direction]\n",
    "        \n",
    "        if map_info[nx][ny] == 0:\n",
    "            x = nx\n",
    "            y = ny\n",
    "        else:\n",
    "            break\n",
    "        turn_time = 0\n",
    "        \n",
    "print(count)"
   ]
  },
  {
   "cell_type": "markdown",
   "id": "522611ca",
   "metadata": {},
   "source": [
    "개어렵다 미친...ㅜㅜ\n",
    "1. _(언더바)의 쓰임을 몰랐다.\n",
    "2. 방향 설정하는 리스트 설정\n",
    "3. 4방향 모두 갈 수 없는 경우를 고려하기 위해 turn_time\n",
    "4. nx와 x의 차이\n",
    "5. continue\n",
    "\n",
    "공부 더 해야겠다ㅜㅜ"
   ]
  }
 ],
 "metadata": {
  "kernelspec": {
   "display_name": "Python 3 (ipykernel)",
   "language": "python",
   "name": "python3"
  },
  "language_info": {
   "codemirror_mode": {
    "name": "ipython",
    "version": 3
   },
   "file_extension": ".py",
   "mimetype": "text/x-python",
   "name": "python",
   "nbconvert_exporter": "python",
   "pygments_lexer": "ipython3",
   "version": "3.9.12"
  }
 },
 "nbformat": 4,
 "nbformat_minor": 5
}
