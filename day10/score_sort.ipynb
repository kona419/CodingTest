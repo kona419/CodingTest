{
 "cells": [
  {
   "cell_type": "code",
   "execution_count": 8,
   "id": "6a025140",
   "metadata": {},
   "outputs": [
    {
     "name": "stdout",
     "output_type": "stream",
     "text": [
      "2\n",
      "홍길동 98\n",
      "이순신 77\n",
      "[['홍길동', '98'], ['이순신', '77']]\n",
      "이순신 홍길동 "
     ]
    }
   ],
   "source": [
    "# my answer\n",
    "\n",
    "n = int(input())\n",
    "\n",
    "info = []\n",
    "\n",
    "for i in range(n):\n",
    "    data = input().split()\n",
    "    info.append(data)  # 배열\n",
    "    \n",
    "print(info)\n",
    "    \n",
    "def setting(data):\n",
    "    return data[1]\n",
    "\n",
    "\n",
    "result = sorted(info, key = setting)\n",
    "\n",
    "for i in range(n):\n",
    "    print(result[i][0], end = ' ')"
   ]
  },
  {
   "cell_type": "code",
   "execution_count": 7,
   "id": "d14d58b6",
   "metadata": {},
   "outputs": [
    {
     "name": "stdout",
     "output_type": "stream",
     "text": [
      "2\n",
      "홍길동 998\n",
      "이순신 88\n",
      "[('홍길동', 998), ('이순신', 88)]\n",
      "이순신 홍길동 "
     ]
    }
   ],
   "source": [
    "# book answer\n",
    "\n",
    "n = int(input())\n",
    "array = []\n",
    "for i in range(n):\n",
    "    input_data = input().split()\n",
    "    array.append((input_data[0], int(input_data[1])))  # 튜플\n",
    "    \n",
    "print(array)\n",
    "    \n",
    "array = sorted(array, key = lambda student: student[1])  # lambda -> student에서 student[1]을 선택\n",
    "\n",
    "for student in array:\n",
    "    print(student[0], end=' ')"
   ]
  }
 ],
 "metadata": {
  "kernelspec": {
   "display_name": "Python 3 (ipykernel)",
   "language": "python",
   "name": "python3"
  },
  "language_info": {
   "codemirror_mode": {
    "name": "ipython",
    "version": 3
   },
   "file_extension": ".py",
   "mimetype": "text/x-python",
   "name": "python",
   "nbconvert_exporter": "python",
   "pygments_lexer": "ipython3",
   "version": "3.9.12"
  }
 },
 "nbformat": 4,
 "nbformat_minor": 5
}
