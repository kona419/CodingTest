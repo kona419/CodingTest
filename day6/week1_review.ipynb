{
 "cells": [
  {
   "cell_type": "code",
   "execution_count": 4,
   "id": "ac9d3146",
   "metadata": {},
   "outputs": [
    {
     "name": "stdout",
     "output_type": "stream",
     "text": [
      "6\n"
     ]
    }
   ],
   "source": [
    "# change\n",
    "n = 1260\n",
    "result = 0\n",
    "\n",
    "coins = [500,100,50,10]\n",
    "\n",
    "for coin in coins:\n",
    "    result+=(n//coin)\n",
    "    n = n - (n//coin)*coin # n = n % coin 과 같음\n",
    "    \n",
    "print(result)"
   ]
  },
  {
   "cell_type": "code",
   "execution_count": 11,
   "id": "5c9d1463",
   "metadata": {},
   "outputs": [
    {
     "name": "stdout",
     "output_type": "stream",
     "text": [
      "5 8 3\n",
      "2 4 5 4 6\n",
      "46\n"
     ]
    }
   ],
   "source": [
    "# law_of_big_num\n",
    "n, m, k = map(int, input().split())\n",
    "num = list(map(int, input().split()))\n",
    "\n",
    "result = 0\n",
    "count = 0\n",
    "\n",
    "num.sort()\n",
    "\n",
    "first_big = num[-1]\n",
    "second_big = num[-2]\n",
    "\n",
    "while count < m:\n",
    "    for j in range(k):\n",
    "        result += first_big\n",
    "        count += 1\n",
    "    result += second_big\n",
    "    count+=1\n",
    "    \n",
    "print(result)"
   ]
  },
  {
   "cell_type": "code",
   "execution_count": 13,
   "id": "35fafc64",
   "metadata": {},
   "outputs": [
    {
     "name": "stdout",
     "output_type": "stream",
     "text": [
      "5 8 3\n",
      "2 4 5 4 6\n",
      "46\n"
     ]
    }
   ],
   "source": [
    "# law_of_big_num _ another solution\n",
    "\n",
    "n, m, k = map(int, input().split())\n",
    "num = list(map(int, input().split()))\n",
    "\n",
    "result = 0\n",
    "\n",
    "num.sort()\n",
    "\n",
    "first_big = num[-1]\n",
    "second_big = num[-2]\n",
    "\n",
    "count = m // (k+1) * k\n",
    "count += m % (k+1)\n",
    "\n",
    "result += first_big * count\n",
    "result += second_big * (m - count)\n",
    "\n",
    "print(result)"
   ]
  },
  {
   "cell_type": "code",
   "execution_count": 6,
   "id": "8ae3bceb",
   "metadata": {},
   "outputs": [
    {
     "name": "stdout",
     "output_type": "stream",
     "text": [
      "3 3\n",
      "1 2 3\n",
      "4 5 6\n",
      "7 8 9\n",
      "7\n"
     ]
    }
   ],
   "source": [
    "# num_card_game\n",
    "n, m = map(int, input().split())\n",
    "\n",
    "card = []\n",
    "\n",
    "for i in range(n):\n",
    "    num = list(map(int, input().split()))\n",
    "    card.append(min(num))\n",
    "print(max(card))"
   ]
  },
  {
   "cell_type": "code",
   "execution_count": 12,
   "id": "a5bbc849",
   "metadata": {},
   "outputs": [
    {
     "name": "stdout",
     "output_type": "stream",
     "text": [
      "11 3\n",
      "4\n"
     ]
    }
   ],
   "source": [
    "# until_num1 내가 책에 있는 정답보다 더 간단한 방법을 생각해 낸듯 하다\n",
    "n, m = map(int, input().split())\n",
    "\n",
    "count = 0\n",
    "\n",
    "while n>1:\n",
    "    if n % m == 0:\n",
    "        n = n // m\n",
    "        count+=1\n",
    "        \n",
    "    else:\n",
    "        n -= 1\n",
    "        count+=1\n",
    "        \n",
    "print(count)"
   ]
  },
  {
   "cell_type": "code",
   "execution_count": 21,
   "id": "0f712cfe",
   "metadata": {},
   "outputs": [
    {
     "name": "stdout",
     "output_type": "stream",
     "text": [
      "5\n",
      "R R R U D D\n",
      "3 4\n"
     ]
    }
   ],
   "source": [
    "# up_down_L_R\n",
    "n = int(input())\n",
    "plans = input().split()\n",
    "\n",
    "x,y = 1,1\n",
    "\n",
    "moves_x = [0,0,-1,1]\n",
    "moves_y = [-1,1,0,0]\n",
    "moves = ['L', 'R', 'U', 'D']\n",
    "\n",
    "for plan in plans:\n",
    "    for i in range(len(moves)):\n",
    "        if plan == moves[i]:\n",
    "            nx = x + moves_x[i]\n",
    "            ny = y + moves_y[i]\n",
    "    if nx<1 or ny<1 or nx>n or ny>n:\n",
    "        continue\n",
    "    x=nx\n",
    "    y=ny\n",
    "print(x, y)"
   ]
  },
  {
   "cell_type": "code",
   "execution_count": 25,
   "id": "1ad3430e",
   "metadata": {},
   "outputs": [
    {
     "name": "stdout",
     "output_type": "stream",
     "text": [
      "5\n",
      "11475\n"
     ]
    }
   ],
   "source": [
    "# time3\n",
    "n = int(input())\n",
    "\n",
    "count = 0\n",
    "\n",
    "for i in range(n+1):\n",
    "    for j in range(60):\n",
    "        for k in range(60):\n",
    "            if '3' in str(i)+str(j)+str(k):\n",
    "                count+=1\n",
    "                \n",
    "print(count)"
   ]
  },
  {
   "cell_type": "code",
   "execution_count": 3,
   "id": "4e361bae",
   "metadata": {},
   "outputs": [
    {
     "name": "stdout",
     "output_type": "stream",
     "text": [
      "c2\n",
      "6\n"
     ]
    }
   ],
   "source": [
    "# knight_of_kingdom\n",
    "n = input()\n",
    "\n",
    "x = n[0]\n",
    "x = int(ord(x))-96\n",
    "y = int(n[1])\n",
    "\n",
    "count = 0\n",
    "\n",
    "steps = [(2,1),(2,-1),(-2,1),(-2,-1),(1,2),(1,-2),(-1,2),(-1,-2)]\n",
    "\n",
    "for step in steps:\n",
    "    next_x = x + step[1]\n",
    "    next_y = y + step[0]\n",
    "    \n",
    "    if next_x<9 and next_y<9 and next_x>0 and next_y>0:\n",
    "\n",
    "        count += 1\n",
    "\n",
    "print(count)"
   ]
  },
  {
   "cell_type": "code",
   "execution_count": 4,
   "id": "5a1576ae",
   "metadata": {},
   "outputs": [
    {
     "name": "stdout",
     "output_type": "stream",
     "text": [
      "4 4 \n",
      "1 1 0\n",
      "1 1 1 1\n",
      "1 0 0 1\n",
      "1 1 0 1\n",
      "1 1 1 1\n",
      "3\n"
     ]
    }
   ],
   "source": [
    "# develop game\n",
    "\n",
    "n, m = map(int, input().split())\n",
    "x,y,direction = map(int, input().split())\n",
    "\n",
    "map_info = []\n",
    "\n",
    "count = 1\n",
    "turn_time = 0\n",
    "\n",
    "d = [[0]*m for _ in range(n)]\n",
    "\n",
    "d[x][y] = 1\n",
    "\n",
    "for i in range(n):\n",
    "    a = list(map(int, input().split()))\n",
    "    map_info.append(a)\n",
    "    \n",
    "def left_turn():\n",
    "    global direction\n",
    "    if direction == 0:\n",
    "        direction += 3\n",
    "    else:\n",
    "        direction -= 1\n",
    "        \n",
    "dx = [-1,0,1,0]\n",
    "dy = [0,-1,0,1]\n",
    "        \n",
    "while True:\n",
    "    left_turn()\n",
    "    nx = x + dx[direction]\n",
    "    ny = y + dy[direction]\n",
    "    \n",
    "    if d[nx][ny]==0 and map_info[nx][ny]==0:\n",
    "        d[nx][ny]=1\n",
    "        x = nx\n",
    "        y = ny\n",
    "        count += 1\n",
    "        turn_time = 0\n",
    "        continue\n",
    "    else:\n",
    "        turn_time += 1\n",
    "        \n",
    "    if turn_time == 4:\n",
    "        nx = x - dx[direction]\n",
    "        ny = y - dy[direction]\n",
    "        \n",
    "        if map_info[nx][ny]==0:\n",
    "            x = nx\n",
    "            y = ny\n",
    "        else:\n",
    "            break\n",
    "        turn_time = 0\n",
    "\n",
    "print(count)"
   ]
  },
  {
   "cell_type": "code",
   "execution_count": null,
   "id": "d9d60fcd",
   "metadata": {},
   "outputs": [],
   "source": []
  }
 ],
 "metadata": {
  "kernelspec": {
   "display_name": "Python 3 (ipykernel)",
   "language": "python",
   "name": "python3"
  },
  "language_info": {
   "codemirror_mode": {
    "name": "ipython",
    "version": 3
   },
   "file_extension": ".py",
   "mimetype": "text/x-python",
   "name": "python",
   "nbconvert_exporter": "python",
   "pygments_lexer": "ipython3",
   "version": "3.9.12"
  }
 },
 "nbformat": 4,
 "nbformat_minor": 5
}
