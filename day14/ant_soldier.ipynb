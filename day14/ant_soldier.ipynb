{
 "cells": [
  {
   "cell_type": "code",
   "execution_count": 14,
   "id": "b2384954",
   "metadata": {},
   "outputs": [
    {
     "name": "stdout",
     "output_type": "stream",
     "text": [
      "6 \n",
      "3 1 5 1 6 1\n",
      "11\n"
     ]
    }
   ],
   "source": [
    "#my answer\n",
    "n = int(input())\n",
    "k = list(map(int, input().split()))\n",
    "\n",
    "d = [0]*100\n",
    "\n",
    "for i in range(n):\n",
    "        \n",
    "    d[i]=max(k[i],k[i-1]+k[i-3])\n",
    "\n",
    "print(max(d))"
   ]
  },
  {
   "cell_type": "code",
   "execution_count": 12,
   "id": "f2df49c7",
   "metadata": {},
   "outputs": [
    {
     "name": "stdout",
     "output_type": "stream",
     "text": [
      "6\n",
      "3 1 5 1 6 1\n",
      "14\n"
     ]
    }
   ],
   "source": [
    "#book answer\n",
    "\n",
    "n = int(input())\n",
    "array = list(map(int, input().split()))\n",
    "\n",
    "d = [0]*100\n",
    "\n",
    "d[0] = array[0]\n",
    "d[1] = max(array[0], array[1])\n",
    "for i in range(2,n):\n",
    "    d[i] = max(d[i-1],d[i-2]+array[i])\n",
    "    \n",
    "print(max(d))"
   ]
  },
  {
   "cell_type": "markdown",
   "id": "d4fd159c",
   "metadata": {},
   "source": [
    "다이나믹 프로그래밍을 더 공부해야겠다.. 어렵다ㅜㅜ"
   ]
  }
 ],
 "metadata": {
  "kernelspec": {
   "display_name": "Python 3 (ipykernel)",
   "language": "python",
   "name": "python3"
  },
  "language_info": {
   "codemirror_mode": {
    "name": "ipython",
    "version": 3
   },
   "file_extension": ".py",
   "mimetype": "text/x-python",
   "name": "python",
   "nbconvert_exporter": "python",
   "pygments_lexer": "ipython3",
   "version": "3.9.12"
  }
 },
 "nbformat": 4,
 "nbformat_minor": 5
}
