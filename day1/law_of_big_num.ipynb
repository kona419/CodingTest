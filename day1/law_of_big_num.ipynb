{
 "cells": [
  {
   "cell_type": "code",
   "execution_count": 18,
   "id": "d199eefc",
   "metadata": {},
   "outputs": [
    {
     "name": "stdout",
     "output_type": "stream",
     "text": [
      "5\n",
      "8\n",
      "3\n",
      "2\n",
      "4\n",
      "5\n",
      "4\n",
      "6\n",
      "['2', '4', '5', '4', '6']\n",
      "45\n"
     ]
    }
   ],
   "source": [
    "#my answer\n",
    "n= int(input())\n",
    "m = int(input())\n",
    "k = int(input())\n",
    "num = [ ]\n",
    "for i in range(n):\n",
    "    s=input()\n",
    "    num.append(s)\n",
    "    \n",
    "count = 0\n",
    "ans = 0\n",
    "print(num)\n",
    "\n",
    "while(count<=m):\n",
    "    biggest = int(max(num))\n",
    "    for i in range(k):\n",
    "        ans += biggest\n",
    "        count+=1\n",
    "    num.remove(max(num))\n",
    "    \n",
    "print(ans)\n",
    "\n",
    "#나의 문제점: 1. 한줄로 입력받기 몰랐음/\n",
    "#2. 연속해서 k번만 안되고 연속만 안하면 큰 수 계속 더할 수 있는 부분 놓쳤음\n",
    "#3. 4가 두번 있을 경우 각각 인덱스 값이 다르므로 다른 수라는 부분 놓침"
   ]
  },
  {
   "cell_type": "code",
   "execution_count": 19,
   "id": "62971905",
   "metadata": {},
   "outputs": [
    {
     "name": "stdout",
     "output_type": "stream",
     "text": [
      "5 8 3\n",
      "2 4 5 4 6\n",
      "46\n"
     ]
    }
   ],
   "source": [
    "#answer\n",
    "n, m ,k = map(int, input().split())\n",
    "\n",
    "data = list(map(int, input().split()))\n",
    "\n",
    "data.sort()\n",
    "first = data[n-1]\n",
    "second = data[n-2]\n",
    "\n",
    "result=0\n",
    "\n",
    "while True:\n",
    "    for i in range(k):\n",
    "        if m == 0:\n",
    "            break\n",
    "        result +=first\n",
    "        m-=1\n",
    "    if m == 0:\n",
    "        break\n",
    "    result += second\n",
    "    m -= 1\n",
    "\n",
    "print(result)"
   ]
  }
 ],
 "metadata": {
  "kernelspec": {
   "display_name": "Python 3 (ipykernel)",
   "language": "python",
   "name": "python3"
  },
  "language_info": {
   "codemirror_mode": {
    "name": "ipython",
    "version": 3
   },
   "file_extension": ".py",
   "mimetype": "text/x-python",
   "name": "python",
   "nbconvert_exporter": "python",
   "pygments_lexer": "ipython3",
   "version": "3.9.12"
  }
 },
 "nbformat": 4,
 "nbformat_minor": 5
}
