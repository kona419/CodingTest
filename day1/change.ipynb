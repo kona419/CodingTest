{
 "cells": [
  {
   "cell_type": "code",
   "execution_count": 1,
   "id": "a6bef147",
   "metadata": {},
   "outputs": [
    {
     "data": {
      "text/plain": [
       "'손님에게 거슬러 줘야할 돈이 N원 일때 거슬러 줘야할 동전의 최소개수를 구하라'"
      ]
     },
     "execution_count": 1,
     "metadata": {},
     "output_type": "execute_result"
    }
   ],
   "source": [
    "'''거스름돈 구하기'''\n",
    "'''손님에게 거슬러 줘야할 돈이 N원 일때 거슬러 줘야할 동전의 최소개수를 구하라'''"
   ]
  },
  {
   "cell_type": "code",
   "execution_count": 12,
   "id": "953e0524",
   "metadata": {},
   "outputs": [
    {
     "name": "stdout",
     "output_type": "stream",
     "text": [
      "2 2 1 1\n",
      "0.0\n"
     ]
    }
   ],
   "source": [
    "import time\n",
    "\n",
    "start = time.time()\n",
    "money = 1260\n",
    "num500=money//500\n",
    "remain = money - (500*num500)\n",
    "\n",
    "num100 = remain//100\n",
    "remain = remain - (100*num100)\n",
    "\n",
    "num50 = remain//50\n",
    "remain = remain - (50*num50)\n",
    "\n",
    "num10 = remain//10\n",
    "\n",
    "end = time.time()\n",
    "\n",
    "print(num500, num100, num50, num10)\n",
    "print(end-start)"
   ]
  },
  {
   "cell_type": "code",
   "execution_count": 15,
   "id": "ff5c22db",
   "metadata": {},
   "outputs": [
    {
     "name": "stdout",
     "output_type": "stream",
     "text": [
      "260\n",
      "60\n",
      "10\n",
      "0\n",
      "6\n"
     ]
    }
   ],
   "source": [
    "n = 1260\n",
    "count = 0\n",
    "\n",
    "coin_types = [500,100,50,10]\n",
    "\n",
    "for coin in coin_types:\n",
    "    count+= n//coin\n",
    "    n%=coin\n",
    "    \n",
    "print(count)"
   ]
  },
  {
   "cell_type": "code",
   "execution_count": null,
   "id": "47cda92e",
   "metadata": {},
   "outputs": [],
   "source": []
  }
 ],
 "metadata": {
  "kernelspec": {
   "display_name": "Python 3 (ipykernel)",
   "language": "python",
   "name": "python3"
  },
  "language_info": {
   "codemirror_mode": {
    "name": "ipython",
    "version": 3
   },
   "file_extension": ".py",
   "mimetype": "text/x-python",
   "name": "python",
   "nbconvert_exporter": "python",
   "pygments_lexer": "ipython3",
   "version": "3.9.12"
  }
 },
 "nbformat": 4,
 "nbformat_minor": 5
}
