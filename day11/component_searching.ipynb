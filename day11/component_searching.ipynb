{
 "cells": [
  {
   "cell_type": "code",
   "execution_count": 1,
   "id": "bbff2a94",
   "metadata": {},
   "outputs": [
    {
     "name": "stdout",
     "output_type": "stream",
     "text": [
      "5\n",
      "8 3 7 9 2\n",
      "3\n",
      "5 7 9\n",
      "no yes yes "
     ]
    }
   ],
   "source": [
    "n = int(input())\n",
    "list_n = list(map(int, input().split()))\n",
    "m = int(input())\n",
    "list_m = list(map(int, input().split()))\n",
    "\n",
    "list_n.sort()\n",
    "\n",
    "def binary_search(array, target, start, end):\n",
    "    while start <= end:\n",
    "        mid = (start+end) // 2\n",
    "        \n",
    "        if array[mid] == target:\n",
    "            return mid\n",
    "        elif array[mid] > target:\n",
    "            end = mid-1\n",
    "        else:\n",
    "            start = mid+1\n",
    "    return None\n",
    "\n",
    "for i in range(m):\n",
    "    result = binary_search(list_n, list_m[i], 0, n-1)\n",
    "    if result == None:\n",
    "        print(\"no\", end=' ')\n",
    "    else:\n",
    "        print(\"yes\", end=' ')\n",
    "\n"
   ]
  },
  {
   "cell_type": "code",
   "execution_count": 3,
   "id": "3d6a37c1",
   "metadata": {},
   "outputs": [
    {
     "name": "stdout",
     "output_type": "stream",
     "text": [
      "5\n",
      "8 3 7 9 2\n",
      "3\n",
      "5 7 9\n",
      "no yes yes "
     ]
    }
   ],
   "source": [
    "# book answer # 이진 탐색 사용\n",
    "\n",
    "n = int(input())\n",
    "list_n = list(map(int, input().split()))\n",
    "m = int(input())\n",
    "list_m = list(map(int, input().split()))\n",
    "\n",
    "list_n.sort()\n",
    "\n",
    "def binary_search(array, target, start, end):\n",
    "    while start <= end:\n",
    "        mid = (start+end) // 2\n",
    "        \n",
    "        if array[mid] == target:\n",
    "            return mid\n",
    "        elif array[mid] > target:\n",
    "            end = mid-1\n",
    "        else:\n",
    "            start = mid+1\n",
    "    return None\n",
    "\n",
    "for i in list_m:                                    # 나는 range(m)을 썼는데 책은 그냥 바로 리스트를 사용.\n",
    "    result = binary_search(list_n, i, 0, n-1)       # 보기에 더 간편해 보임. 범위도 i로 간단함.\n",
    "    if result == None:\n",
    "        print(\"no\", end=' ')\n",
    "    else:\n",
    "        print(\"yes\", end=' ')\n",
    "\n"
   ]
  },
  {
   "cell_type": "code",
   "execution_count": 4,
   "id": "dea2bd01",
   "metadata": {},
   "outputs": [
    {
     "name": "stdout",
     "output_type": "stream",
     "text": [
      "5\n",
      "1 6 7 3 9\n",
      "3\n",
      "2 9 6\n",
      "no yes yes "
     ]
    }
   ],
   "source": [
    "# 계수 정렬 사용\n",
    "\n",
    "n = int(input())\n",
    "array = [0]*1000001\n",
    "\n",
    "for i in input().split():\n",
    "    array[int(i)] = 1\n",
    "    \n",
    "m = int(input())\n",
    "x = list(map(int, input().split()))\n",
    "\n",
    "for i in x:\n",
    "    if array[i] == 1:\n",
    "        print(\"yes\", end=' ')\n",
    "    else:\n",
    "        print(\"no\", end=' ')"
   ]
  },
  {
   "cell_type": "code",
   "execution_count": 5,
   "id": "0a1803d2",
   "metadata": {},
   "outputs": [
    {
     "name": "stdout",
     "output_type": "stream",
     "text": [
      "5\n",
      "6 4 8 9 2\n",
      "3\n",
      "1 2 5\n",
      "no yes no "
     ]
    }
   ],
   "source": [
    "# 집합 자료형을 이용해 더욱 간단하게.\n",
    "\n",
    "n = int(input())\n",
    "array = set(map(int, input().split()))\n",
    "\n",
    "m = int(input())\n",
    "x = list(map(int, input().split()))\n",
    "\n",
    "for i in x :\n",
    "    if i in array:\n",
    "        print(\"yes\", end=' ')\n",
    "    else:\n",
    "        print(\"no\", end=' ')"
   ]
  },
  {
   "cell_type": "code",
   "execution_count": null,
   "id": "3ff12083",
   "metadata": {},
   "outputs": [],
   "source": []
  }
 ],
 "metadata": {
  "kernelspec": {
   "display_name": "Python 3 (ipykernel)",
   "language": "python",
   "name": "python3"
  },
  "language_info": {
   "codemirror_mode": {
    "name": "ipython",
    "version": 3
   },
   "file_extension": ".py",
   "mimetype": "text/x-python",
   "name": "python",
   "nbconvert_exporter": "python",
   "pygments_lexer": "ipython3",
   "version": "3.9.12"
  }
 },
 "nbformat": 4,
 "nbformat_minor": 5
}
