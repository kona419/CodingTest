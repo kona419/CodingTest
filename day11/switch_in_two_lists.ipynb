{
 "cells": [
  {
   "cell_type": "code",
   "execution_count": 3,
   "id": "da85d714",
   "metadata": {},
   "outputs": [
    {
     "name": "stdout",
     "output_type": "stream",
     "text": [
      "5 3\n",
      "1 2 5 4 3\n",
      "5 5 6 6 5\n",
      "26\n"
     ]
    }
   ],
   "source": [
    "# my answer\n",
    "n, k =map(int, input().split())\n",
    "a=list(map(int, input().split()))\n",
    "b=list(map(int, input().split()))\n",
    "\n",
    "a.sort()\n",
    "b.sort(reverse=True)\n",
    "\n",
    "for i in range(k):\n",
    "    a[i]=b[i]\n",
    "    \n",
    "print(sum(a))"
   ]
  },
  {
   "cell_type": "code",
   "execution_count": 4,
   "id": "18853858",
   "metadata": {},
   "outputs": [
    {
     "name": "stdout",
     "output_type": "stream",
     "text": [
      "5 3\n",
      "1 2 5 4 3\n",
      "5 5 6 6 5\n",
      "26\n"
     ]
    }
   ],
   "source": [
    "# answer\n",
    "\n",
    "n, k =map(int, input().split())\n",
    "a=list(map(int, input().split()))\n",
    "b=list(map(int, input().split()))\n",
    "\n",
    "a.sort()\n",
    "b.sort(reverse=True)\n",
    "\n",
    "for i in range(k):\n",
    "    if a[i]<b[i]:\n",
    "        a[i], b[i] = b[i], a[i]\n",
    "        \n",
    "    else :\n",
    "        break\n",
    "    \n",
    "print(sum(a))"
   ]
  },
  {
   "cell_type": "markdown",
   "id": "862c9c49",
   "metadata": {},
   "source": [
    "쉽게 금방 풀었다.\n",
    "\n",
    "그러나, 한가지 디테일을 놓쳤다. A의 원소가 B보다 작을 경우에만 교체해야지 합이 최대가 나온다.\n",
    "\n",
    "만약, 책에 적혀있는 예시가 아니라 다른 예시로 했다면 틀린 결과가 나왔을 것이다.\n",
    "\n",
    "디테일을 놓치지 말자."
   ]
  },
  {
   "cell_type": "code",
   "execution_count": null,
   "id": "a4237aba",
   "metadata": {},
   "outputs": [],
   "source": []
  }
 ],
 "metadata": {
  "kernelspec": {
   "display_name": "Python 3 (ipykernel)",
   "language": "python",
   "name": "python3"
  },
  "language_info": {
   "codemirror_mode": {
    "name": "ipython",
    "version": 3
   },
   "file_extension": ".py",
   "mimetype": "text/x-python",
   "name": "python",
   "nbconvert_exporter": "python",
   "pygments_lexer": "ipython3",
   "version": "3.9.12"
  }
 },
 "nbformat": 4,
 "nbformat_minor": 5
}
