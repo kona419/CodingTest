{
 "cells": [
  {
   "cell_type": "code",
   "execution_count": 2,
   "id": "a8c6bb15",
   "metadata": {},
   "outputs": [
    {
     "name": "stdout",
     "output_type": "stream",
     "text": [
      "원소 개수 입력하고, 찾을 문자열 입력.\n",
      "3 tiffany\n",
      "개수만큼 문자열 입력.\n",
      "kelly james tiffany\n",
      "3\n"
     ]
    }
   ],
   "source": [
    "def sequential_search(n, target, array):\n",
    "    for i in range(n):\n",
    "        if array[i]==target:\n",
    "            return i+1         #인덱스 반환\n",
    "    \n",
    "print(\"원소 개수 입력하고, 찾을 문자열 입력.\")\n",
    "input_data = input().split()\n",
    "n = int(input_data[0])\n",
    "target=input_data[1]\n",
    "\n",
    "print(\"개수만큼 문자열 입력.\")\n",
    "array = input().split()\n",
    "\n",
    "print(sequential_search(n,target,array))"
   ]
  },
  {
   "cell_type": "code",
   "execution_count": null,
   "id": "e0b5ac42",
   "metadata": {},
   "outputs": [],
   "source": []
  }
 ],
 "metadata": {
  "kernelspec": {
   "display_name": "Python 3 (ipykernel)",
   "language": "python",
   "name": "python3"
  },
  "language_info": {
   "codemirror_mode": {
    "name": "ipython",
    "version": 3
   },
   "file_extension": ".py",
   "mimetype": "text/x-python",
   "name": "python",
   "nbconvert_exporter": "python",
   "pygments_lexer": "ipython3",
   "version": "3.9.12"
  }
 },
 "nbformat": 4,
 "nbformat_minor": 5
}
