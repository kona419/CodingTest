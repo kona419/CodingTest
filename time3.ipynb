{
 "cells": [
  {
   "cell_type": "code",
   "execution_count": null,
   "id": "282b3d15",
   "metadata": {},
   "outputs": [],
   "source": [
    "# 내 답\n",
    "# 맞는거 같은데 뭔가가 중복해서 카운트 되고 있다.\n",
    "n = int(input())\n",
    "\n",
    "count = 0\n",
    "\n",
    "\n",
    "three = [3,13,23,30,31,32,33,34,35,36,37,38,39,43,53]\n",
    "\n",
    "for i in range(1,n+1):\n",
    "    if i == 3:\n",
    "        count+=1\n",
    "#         print(\"///////\")\n",
    "#         print(i)\n",
    "    else:\n",
    "        for j in range(60):\n",
    "            for k in range(len(three)):\n",
    "                if j == three[k]:\n",
    "                    count+=1                \n",
    "                else: #분에 3이 없는 애들\n",
    "                    for a in range(60):\n",
    "                        for b in range(len(three)):\n",
    "                            \n",
    "                            if a == three[b]:\n",
    "                                count+=1\n",
    "\n",
    "                                \n",
    "                                \n",
    "                                \n",
    "print(count)\n"
   ]
  },
  {
   "cell_type": "code",
   "execution_count": 2,
   "id": "8c4ad66c",
   "metadata": {},
   "outputs": [
    {
     "name": "stdout",
     "output_type": "stream",
     "text": [
      "5\n",
      "11475\n"
     ]
    }
   ],
   "source": [
    "# 정답\n",
    "n = int(input())\n",
    "\n",
    "count = 0\n",
    "\n",
    "for i in range(n+1):\n",
    "    for j in range(60):\n",
    "        for k in range(60):\n",
    "            if '3' in str(i)+str(j)+str(k):\n",
    "                count+=1\n",
    "                \n",
    "print(count)"
   ]
  }
 ],
 "metadata": {
  "kernelspec": {
   "display_name": "Python 3 (ipykernel)",
   "language": "python",
   "name": "python3"
  },
  "language_info": {
   "codemirror_mode": {
    "name": "ipython",
    "version": 3
   },
   "file_extension": ".py",
   "mimetype": "text/x-python",
   "name": "python",
   "nbconvert_exporter": "python",
   "pygments_lexer": "ipython3",
   "version": "3.9.12"
  }
 },
 "nbformat": 4,
 "nbformat_minor": 5
}
