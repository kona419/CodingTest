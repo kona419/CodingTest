{
 "cells": [
  {
   "cell_type": "code",
   "execution_count": 10,
   "id": "3c6da0d2",
   "metadata": {},
   "outputs": [
    {
     "name": "stdout",
     "output_type": "stream",
     "text": [
      "b4k1a9\n",
      "abk14\n"
     ]
    }
   ],
   "source": [
    "# my answer\n",
    "s = input()\n",
    "s_list = list(s)\n",
    "\n",
    "check_int = []\n",
    "check_str = []\n",
    "\n",
    "for i in s_list:\n",
    "    if i.isdigit() == True:\n",
    "        check_int.append(int(i))\n",
    "    else:\n",
    "        check_str.append(str(i))\n",
    "        \n",
    "check_str.sort()\n",
    "\n",
    "for i in check_str:\n",
    "    print(i,end='')\n",
    "print(sum(check_int))"
   ]
  },
  {
   "cell_type": "code",
   "execution_count": 11,
   "id": "5686d4e5",
   "metadata": {},
   "outputs": [
    {
     "name": "stdout",
     "output_type": "stream",
     "text": [
      "k9a1c2\n",
      "ack12\n"
     ]
    }
   ],
   "source": [
    "# book answer\n",
    "\n",
    "data = input()\n",
    "result = []\n",
    "value = 0\n",
    "\n",
    "for x in data:\n",
    "    if x.isalpha():\n",
    "        result.append(x)\n",
    "    else:\n",
    "        value += int(x)\n",
    "        \n",
    "result.sort()\n",
    "\n",
    "if value != 0:\n",
    "    result.append(str(value))\n",
    "print(''.join(result))"
   ]
  },
  {
   "cell_type": "markdown",
   "id": "290989cb",
   "metadata": {},
   "source": [
    "나도 잘 구현했다. 그런데 놓친 부분이 있다.\n",
    "\n",
    "만약에 숫자가 하나도 없다면??\n",
    "\n",
    "나는 숫자를 하나도 안받은 경우에는 0을 출력한다. 원래는 아무것도 출력하지 않아야한다.\n",
    "\n",
    "- 나와 책의 다른 점 : 책은 value라는 변수를 설정해 숫자를 바로바로 더했다. 그리고 리스트 맨 마지막에 넣어서 출력하였다"
   ]
  },
  {
   "cell_type": "code",
   "execution_count": null,
   "id": "b0f64642",
   "metadata": {},
   "outputs": [],
   "source": []
  }
 ],
 "metadata": {
  "kernelspec": {
   "display_name": "Python 3 (ipykernel)",
   "language": "python",
   "name": "python3"
  },
  "language_info": {
   "codemirror_mode": {
    "name": "ipython",
    "version": 3
   },
   "file_extension": ".py",
   "mimetype": "text/x-python",
   "name": "python",
   "nbconvert_exporter": "python",
   "pygments_lexer": "ipython3",
   "version": "3.9.12"
  }
 },
 "nbformat": 4,
 "nbformat_minor": 5
}
