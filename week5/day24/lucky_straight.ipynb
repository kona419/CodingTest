{
 "cells": [
  {
   "cell_type": "code",
   "execution_count": 12,
   "id": "e3f97dbb",
   "metadata": {},
   "outputs": [
    {
     "name": "stdout",
     "output_type": "stream",
     "text": [
      "7755\n",
      "READY\n"
     ]
    }
   ],
   "source": [
    "#my answer\n",
    "n = int(input())\n",
    "n = str(n)\n",
    "\n",
    "n_list = list(map(int, str(n)))\n",
    "\n",
    "a = n[:len(n_list)//2]\n",
    "b = n[len(n_list)//2:]\n",
    "\n",
    "a_sum = 0\n",
    "b_sum = 0\n",
    "\n",
    "for i in a:\n",
    "    a_sum+=int(i)\n",
    "for i in b:\n",
    "    b_sum+=int(i)\n",
    "    \n",
    "if a_sum ==b_sum:\n",
    "    print('LUCKY')\n",
    "else:\n",
    "    print('READY')"
   ]
  },
  {
   "cell_type": "code",
   "execution_count": 14,
   "id": "eca7024f",
   "metadata": {},
   "outputs": [
    {
     "name": "stdout",
     "output_type": "stream",
     "text": [
      "123402\n",
      "LUCKY\n"
     ]
    }
   ],
   "source": [
    "# book answer\n",
    "\n",
    "n = input()\n",
    "length = len(n)\n",
    "summary = 0\n",
    "\n",
    "for i in range(length // 2):\n",
    "    summary += int(n[i])\n",
    "    \n",
    "for i in range(length // 2, length):\n",
    "    summary -= int(n[i])\n",
    "\n",
    "if summary == 0:\n",
    "    print('LUCKY')\n",
    "else:\n",
    "    print('READY')"
   ]
  },
  {
   "cell_type": "markdown",
   "id": "19284801",
   "metadata": {},
   "source": [
    "- 나 : int로 받아서 list로 변환. 왼쪽 오른쪽 각자 sum해서 비교.\n",
    "- 책 : str로 받음. summary변수 하나 설정하고 왼쪽은 summary에서 더하고, 오른쪽은 summary에서 빼서 결과가 0이면 양쪽이 같으니까 LUCKY, 0이 아니면 다르다는 거니까 READY."
   ]
  }
 ],
 "metadata": {
  "kernelspec": {
   "display_name": "Python 3 (ipykernel)",
   "language": "python",
   "name": "python3"
  },
  "language_info": {
   "codemirror_mode": {
    "name": "ipython",
    "version": 3
   },
   "file_extension": ".py",
   "mimetype": "text/x-python",
   "name": "python",
   "nbconvert_exporter": "python",
   "pygments_lexer": "ipython3",
   "version": "3.9.12"
  }
 },
 "nbformat": 4,
 "nbformat_minor": 5
}
