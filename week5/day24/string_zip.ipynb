{
 "cells": [
  {
   "cell_type": "code",
   "execution_count": 21,
   "id": "4fa7890b",
   "metadata": {},
   "outputs": [],
   "source": [
    "# my answer\n",
    "\n",
    "def solution(s):\n",
    "    start = 1\n",
    "    end = len(s) // 2\n",
    "    count = 0\n",
    "    answer = 0\n",
    "    new = ''\n",
    "    \n",
    "    for i in range(start, end+1):\n",
    "        s[::i]\n",
    "        for j in range(len(s)):\n",
    "            for k in range(len(s)):\n",
    "                if s[j] != s[k]:\n",
    "                    continue\n",
    "                else:\n",
    "                    count+=1\n",
    "            if count != 0:\n",
    "                new = new.join(str(count)+s[j])\n",
    "            else:\n",
    "                new = new.join(s[j])\n",
    "            print(new)\n",
    "        answer = min(len(new), len(s))\n",
    "    \n",
    "    \n",
    "    return answer, new"
   ]
  },
  {
   "cell_type": "code",
   "execution_count": null,
   "id": "58ef9100",
   "metadata": {},
   "outputs": [],
   "source": [
    "#book answer\n",
    "\n",
    "def solution(s):\n",
    "    answer = len(s)\n",
    "    start = 1\n",
    "    end = len(s) // 2\n",
    "    \n",
    "    for step in range(start, end+1):\n",
    "        compressed=\"\"\n",
    "        prev = s[0:step]\n",
    "        count = 1\n",
    "        for j in range(step, len(s), step):\n",
    "            if prev == s[j: j+step]:\n",
    "                count+=1\n",
    "            else:\n",
    "                compressed += str(count)+ prev if count >= 2 else prev\n",
    "                prev = s[j:j+step]\n",
    "                count = 1\n",
    "        compressed += str(count)+ prev if count >= 2 else prev\n",
    "        answer = min(answer, len(compressed))\n",
    "    return answer"
   ]
  },
  {
   "cell_type": "code",
   "execution_count": null,
   "id": "9fc58596",
   "metadata": {},
   "outputs": [],
   "source": [
    "# my answer2\n",
    "def solution(s):\n",
    "    start = 1\n",
    "    end = len(s) // 2\n",
    "    count = 0\n",
    "    answer = len(s)\n",
    "    new = ''\n",
    "    \n",
    "    for i in range(start, end+1):\n",
    "        map(''.join, zip(*[iter(s)]*i))\n",
    "        prev = s[0]\n",
    "        for k in range(1, len(s)):\n",
    "            if prev == s[k]:\n",
    "                count+=1\n",
    "            else:\n",
    "                if count != 0:\n",
    "                    new += str(count)+prev\n",
    "                else:\n",
    "                    new += prev\n",
    "                count = 0\n",
    "        if count != 0:\n",
    "            new += str(count)+prev\n",
    "        else:\n",
    "            new += prev\n",
    "        answer = min(len(new), answer)\n",
    "    return answer"
   ]
  },
  {
   "cell_type": "markdown",
   "id": "b32fb928",
   "metadata": {},
   "source": [
    "완전 탐색, 1 ~ len//2 인 것은 캐치를 했다. min을 사용하는 것도 맞았다.\n",
    "\n",
    "나는 처음부터 문자열을 나누고 비교하려고 하였고,\n",
    "\n",
    "책은 첫 덩어리 하나만 나누고 단위 크기만큼 증가시키며 문자열과 비교하였다.\n",
    "\n",
    "전체적인 흐름은 비슷했으나, 이 부분에서 틀린 것 같다..ㅜㅜ"
   ]
  },
  {
   "cell_type": "code",
   "execution_count": null,
   "id": "fd8da689",
   "metadata": {},
   "outputs": [],
   "source": []
  }
 ],
 "metadata": {
  "kernelspec": {
   "display_name": "Python 3 (ipykernel)",
   "language": "python",
   "name": "python3"
  },
  "language_info": {
   "codemirror_mode": {
    "name": "ipython",
    "version": 3
   },
   "file_extension": ".py",
   "mimetype": "text/x-python",
   "name": "python",
   "nbconvert_exporter": "python",
   "pygments_lexer": "ipython3",
   "version": "3.9.12"
  }
 },
 "nbformat": 4,
 "nbformat_minor": 5
}
