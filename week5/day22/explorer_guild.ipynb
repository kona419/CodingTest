{
 "cells": [
  {
   "cell_type": "code",
   "execution_count": 13,
   "id": "dd894531",
   "metadata": {},
   "outputs": [
    {
     "name": "stdout",
     "output_type": "stream",
     "text": [
      "5\n",
      "3 2 1 2 2\n",
      "2\n"
     ]
    }
   ],
   "source": [
    "n = int(input())\n",
    "feer = list(map(int, input().split()))\n",
    "\n",
    "feer.sort()\n",
    "\n",
    "result = 0\n",
    "count = 0\n",
    "\n",
    "for f in feer:\n",
    "    count += 1\n",
    "    if count >= f:\n",
    "        result+=1\n",
    "        count = 0\n",
    "        \n",
    "print(result)\n",
    "        "
   ]
  },
  {
   "cell_type": "markdown",
   "id": "b46e6794",
   "metadata": {},
   "source": [
    "쉬운 문제였는데 너무 복잡하게 생각한 것 같다..ㅜㅜ"
   ]
  }
 ],
 "metadata": {
  "kernelspec": {
   "display_name": "Python 3 (ipykernel)",
   "language": "python",
   "name": "python3"
  },
  "language_info": {
   "codemirror_mode": {
    "name": "ipython",
    "version": 3
   },
   "file_extension": ".py",
   "mimetype": "text/x-python",
   "name": "python",
   "nbconvert_exporter": "python",
   "pygments_lexer": "ipython3",
   "version": "3.9.12"
  }
 },
 "nbformat": 4,
 "nbformat_minor": 5
}
