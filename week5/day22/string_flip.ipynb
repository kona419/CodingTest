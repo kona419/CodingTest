{
 "cells": [
  {
   "cell_type": "code",
   "execution_count": 7,
   "id": "9cb2cde4",
   "metadata": {},
   "outputs": [
    {
     "name": "stdout",
     "output_type": "stream",
     "text": [
      "0001100\n",
      "1\n"
     ]
    }
   ],
   "source": [
    "#my answer      # 연속인 경우 구현하지 못함.\n",
    "s = input()\n",
    "\n",
    "zero_count = 0\n",
    "one_count = 0\n",
    "\n",
    "result = 0\n",
    "\n",
    "for i in range(len(s)):\n",
    "    data = int(s[i])\n",
    "    if data == 0:\n",
    "        zero_count += 1\n",
    "    else:\n",
    "        one_count += 1\n",
    "        \n",
    "if zero_count > one_count:\n",
    "    for i in range(len(s)):\n",
    "        data = int(s[i])\n",
    "        if data == 1:\n",
    "            data = 0\n",
    "    result+=1\n",
    "else:\n",
    "    for i in range(len(s)):\n",
    "        data = int(s[i])\n",
    "        if data == 0:\n",
    "            data = 1\n",
    "    result+=1\n",
    "\n",
    "print(result)"
   ]
  },
  {
   "cell_type": "code",
   "execution_count": 10,
   "id": "388df3d7",
   "metadata": {},
   "outputs": [
    {
     "name": "stdout",
     "output_type": "stream",
     "text": [
      "0010010\n",
      "2\n"
     ]
    }
   ],
   "source": [
    "#book answer\n",
    "\n",
    "s = input()\n",
    "\n",
    "zero_count = 0\n",
    "one_count = 0\n",
    "\n",
    "if s[0] == '1':\n",
    "    zero_count+=1\n",
    "else:\n",
    "    one_count+=1\n",
    "    \n",
    "for i in range(len(s)-1):\n",
    "    if s[i] != s[i+1]:\n",
    "        if s[i+1] == '1':\n",
    "            zero_count+=1\n",
    "        else:\n",
    "            one_count+=1\n",
    "            \n",
    "print(min(zero_count, one_count))"
   ]
  },
  {
   "cell_type": "markdown",
   "id": "16a87a56",
   "metadata": {},
   "source": [
    "연속일 경우를 처리하는 방법 : 현재에서 다음에 숫자가 바뀌는 경우에 count += 1 해주기."
   ]
  }
 ],
 "metadata": {
  "kernelspec": {
   "display_name": "Python 3 (ipykernel)",
   "language": "python",
   "name": "python3"
  },
  "language_info": {
   "codemirror_mode": {
    "name": "ipython",
    "version": 3
   },
   "file_extension": ".py",
   "mimetype": "text/x-python",
   "name": "python",
   "nbconvert_exporter": "python",
   "pygments_lexer": "ipython3",
   "version": "3.9.12"
  }
 },
 "nbformat": 4,
 "nbformat_minor": 5
}
