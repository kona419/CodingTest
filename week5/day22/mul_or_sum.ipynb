{
 "cells": [
  {
   "cell_type": "code",
   "execution_count": 7,
   "id": "3fed8ec8",
   "metadata": {},
   "outputs": [
    {
     "name": "stdout",
     "output_type": "stream",
     "text": [
      "02984\n",
      "576\n"
     ]
    }
   ],
   "source": [
    "n = input()\n",
    "\n",
    "answer = int(n[0])\n",
    "\n",
    "for i in range(1, len(n)):\n",
    "    data = int(n[i])\n",
    "    if data <= 1 or answer <=1 :\n",
    "        answer = answer + data\n",
    "    else:\n",
    "        answer = answer * data\n",
    "\n",
    "print(answer)\n",
    "        "
   ]
  },
  {
   "cell_type": "markdown",
   "id": "81789554",
   "metadata": {},
   "source": [
    "첫 시작을 첫번째 원소로 설정하는게 핵심이였다."
   ]
  }
 ],
 "metadata": {
  "kernelspec": {
   "display_name": "Python 3 (ipykernel)",
   "language": "python",
   "name": "python3"
  },
  "language_info": {
   "codemirror_mode": {
    "name": "ipython",
    "version": 3
   },
   "file_extension": ".py",
   "mimetype": "text/x-python",
   "name": "python",
   "nbconvert_exporter": "python",
   "pygments_lexer": "ipython3",
   "version": "3.9.12"
  }
 },
 "nbformat": 4,
 "nbformat_minor": 5
}
