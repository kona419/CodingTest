{
 "cells": [
  {
   "cell_type": "code",
   "execution_count": 11,
   "id": "55827f12",
   "metadata": {},
   "outputs": [
    {
     "name": "stdout",
     "output_type": "stream",
     "text": [
      "8 5\n",
      "1 5 4 3 2 4 5 2\n",
      "25\n"
     ]
    }
   ],
   "source": [
    "# my answer\n",
    "\n",
    "n,m = map(int, input().split())\n",
    "data = list(map(int, input().split()))\n",
    "\n",
    "count = 0\n",
    "\n",
    "for i in range(n):\n",
    "    for j in range(1, n):\n",
    "        if i+j >= n:\n",
    "            continue\n",
    "        if data[i] == data[i+j]:\n",
    "            continue\n",
    "        if data[i] != data[i+j]:\n",
    "            count+=1\n",
    "            \n",
    "print(count)"
   ]
  },
  {
   "cell_type": "markdown",
   "id": "6852de45",
   "metadata": {},
   "source": [
    "- 내 답 : 모든 경우의 수를 확인하였다. 그때, 만약 같은 숫자를 고르면 pass 하도록 하였다"
   ]
  },
  {
   "cell_type": "code",
   "execution_count": 13,
   "id": "080a6c50",
   "metadata": {},
   "outputs": [
    {
     "name": "stdout",
     "output_type": "stream",
     "text": [
      "5 3 \n",
      "1 3 2 3 2\n",
      "8\n"
     ]
    }
   ],
   "source": [
    "# book answer\n",
    "\n",
    "n,m = map(int, input().split())\n",
    "data = list(map(int, input().split()))\n",
    "\n",
    "array = [0]*11\n",
    "\n",
    "for x in data:     # 각 문게에 해당하는 볼링공의 개수 세기\n",
    "    array[x] += 1\n",
    "    \n",
    "result = 0\n",
    "\n",
    "for i in range(1, m+1):\n",
    "    n -= array[i]         # 중복 제외\n",
    "    result += array[i]*n  # a 경우의 수 * b 경우의 수\n",
    "print(result)"
   ]
  },
  {
   "cell_type": "markdown",
   "id": "9a2ad9be",
   "metadata": {},
   "source": [
    "- 책 : a가 선택하는 경우의 수 * b가 선택하는 경우의 수 (단, 중복 제외)"
   ]
  },
  {
   "cell_type": "code",
   "execution_count": null,
   "id": "3261253b",
   "metadata": {},
   "outputs": [],
   "source": []
  }
 ],
 "metadata": {
  "kernelspec": {
   "display_name": "Python 3 (ipykernel)",
   "language": "python",
   "name": "python3"
  },
  "language_info": {
   "codemirror_mode": {
    "name": "ipython",
    "version": 3
   },
   "file_extension": ".py",
   "mimetype": "text/x-python",
   "name": "python",
   "nbconvert_exporter": "python",
   "pygments_lexer": "ipython3",
   "version": "3.9.12"
  }
 },
 "nbformat": 4,
 "nbformat_minor": 5
}
