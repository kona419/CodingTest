{
 "cells": [
  {
   "cell_type": "code",
   "execution_count": 3,
   "id": "b5a35be9",
   "metadata": {},
   "outputs": [],
   "source": [
    "# my answer\n",
    "def solution(food_times, k):\n",
    "    a = 0\n",
    "    answer = 0\n",
    "    while a < k:\n",
    "        for i in range(len(food_times)):\n",
    "            if food_times[i] == 0:\n",
    "                answer+=1\n",
    "                continue\n",
    "            food_times[i] -= 1\n",
    "            a+=1\n",
    "            answer+=1\n",
    "            if i+1 == len(food_times):\n",
    "                i = 0\n",
    "                answer = 0\n",
    "    if sum(food_times) == 0:\n",
    "        return -1\n",
    "    if answer != len(food_times):\n",
    "        return answer+1\n",
    "    else:\n",
    "        return answer//len(food_times)"
   ]
  },
  {
   "cell_type": "code",
   "execution_count": 4,
   "id": "86bf913f",
   "metadata": {},
   "outputs": [],
   "source": [
    "# book answer\n",
    "import heapq\n",
    "\n",
    "def solution(food_times, k):\n",
    "    if sum(food_times) <= k:\n",
    "        return -1\n",
    "    q=[]\n",
    "    for i in range(len(food_times)):\n",
    "        heapq.heappush(q, (food_times[i], i+1))\n",
    "    sum_value = 0\n",
    "    previous = 0\n",
    "    length = len(food_times)\n",
    "    \n",
    "    while sum_value + ((q[0][0] - previous)* length) <= k:\n",
    "        now = heapq.heappop(q)[0]\n",
    "        sum_value += (now-previous) * length\n",
    "        length -= 1\n",
    "        previous = now\n",
    "        \n",
    "    result = sorted(q, key = lambda x:x[1])\n",
    "    return result[(k-sum_value)%length][1]"
   ]
  },
  {
   "cell_type": "markdown",
   "id": "c94c0ab7",
   "metadata": {},
   "source": [
    "- 내 답 : 정답 도출x \n",
    "- 책 : 시간 내에 끝낼 수 있는 거를 먼저 다 끝내고 남은 시간을 가지고 계산한다. -> 우선순위 큐(heapq)사용\n",
    "\n"
   ]
  }
 ],
 "metadata": {
  "kernelspec": {
   "display_name": "Python 3 (ipykernel)",
   "language": "python",
   "name": "python3"
  },
  "language_info": {
   "codemirror_mode": {
    "name": "ipython",
    "version": 3
   },
   "file_extension": ".py",
   "mimetype": "text/x-python",
   "name": "python",
   "nbconvert_exporter": "python",
   "pygments_lexer": "ipython3",
   "version": "3.9.12"
  }
 },
 "nbformat": 4,
 "nbformat_minor": 5
}
