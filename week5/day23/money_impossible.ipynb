{
 "cells": [
  {
   "cell_type": "code",
   "execution_count": 35,
   "id": "a3eb9852",
   "metadata": {},
   "outputs": [
    {
     "name": "stdout",
     "output_type": "stream",
     "text": [
      "5\n",
      "3 2 1 1 9\n",
      "[1, 1, 1, 2, 2, 3, 4, 7, 9, 16]\n",
      "5\n"
     ]
    }
   ],
   "source": [
    "# my answer\n",
    "\n",
    "possible = []\n",
    "n = int(input())\n",
    "coin = list(map(int, input().split()))\n",
    "coin.sort()\n",
    "\n",
    "possible.extend(coin)\n",
    "\n",
    "summ = 0\n",
    "\n",
    "max_possible = sum(coin)\n",
    "\n",
    "for i in coin:\n",
    "    summ += i\n",
    "    possible.append(summ)\n",
    "    \n",
    "possible.sort()\n",
    "print(possible)\n",
    "\n",
    "result = []\n",
    "\n",
    "for j in range(1, max_possible+1):\n",
    "    if j in possible:               \n",
    "        continue\n",
    "    if j not in possible:\n",
    "        result.append(j)\n",
    "\n",
    "print(min(result))"
   ]
  },
  {
   "cell_type": "markdown",
   "id": "a3b959d8",
   "metadata": {},
   "source": [
    "내 답의 문제점 : 가능한 모든 경우의 수를 구하여야 한다. -> 불가능, 만약 주어진 숫자가 많으면 너무 오래걸림..."
   ]
  },
  {
   "cell_type": "code",
   "execution_count": 37,
   "id": "725c4801",
   "metadata": {},
   "outputs": [
    {
     "name": "stdout",
     "output_type": "stream",
     "text": [
      "5\n",
      "3 2 1 1 9\n",
      "8\n"
     ]
    }
   ],
   "source": [
    "# book answer\n",
    "\n",
    "n = int(input())\n",
    "coin = list(map(int, input().split()))\n",
    "coin.sort()\n",
    "\n",
    "target = 1\n",
    "for x in coin:\n",
    "    if target < x:\n",
    "        break\n",
    "    target += x\n",
    "print(target)"
   ]
  },
  {
   "cell_type": "markdown",
   "id": "2e21913d",
   "metadata": {},
   "source": [
    "그리디 문제이다.\n",
    "\n",
    "target을 업데이트 하는 부분이 잘 이해가 가지 않는다ㅜㅜㅜㅜ"
   ]
  },
  {
   "cell_type": "code",
   "execution_count": null,
   "id": "37b42a4c",
   "metadata": {},
   "outputs": [],
   "source": []
  }
 ],
 "metadata": {
  "kernelspec": {
   "display_name": "Python 3 (ipykernel)",
   "language": "python",
   "name": "python3"
  },
  "language_info": {
   "codemirror_mode": {
    "name": "ipython",
    "version": 3
   },
   "file_extension": ".py",
   "mimetype": "text/x-python",
   "name": "python",
   "nbconvert_exporter": "python",
   "pygments_lexer": "ipython3",
   "version": "3.9.12"
  }
 },
 "nbformat": 4,
 "nbformat_minor": 5
}
