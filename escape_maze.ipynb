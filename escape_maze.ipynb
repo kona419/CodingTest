{
 "cells": [
  {
   "cell_type": "code",
   "execution_count": 4,
   "id": "a6f040a0",
   "metadata": {},
   "outputs": [
    {
     "name": "stdout",
     "output_type": "stream",
     "text": [
      "3 3\n",
      "110\n",
      "010\n",
      "011\n"
     ]
    },
    {
     "ename": "IndexError",
     "evalue": "list index out of range",
     "output_type": "error",
     "traceback": [
      "\u001b[1;31m---------------------------------------------------------------------------\u001b[0m",
      "\u001b[1;31mIndexError\u001b[0m                                Traceback (most recent call last)",
      "Input \u001b[1;32mIn [4]\u001b[0m, in \u001b[0;36m<cell line: 22>\u001b[1;34m()\u001b[0m\n\u001b[0;32m     19\u001b[0m             maze[x][y] \u001b[38;5;241m=\u001b[39m \u001b[38;5;241m0\u001b[39m\n\u001b[0;32m     20\u001b[0m             count\u001b[38;5;241m+\u001b[39m\u001b[38;5;241m=\u001b[39m\u001b[38;5;241m1\u001b[39m\n\u001b[1;32m---> 22\u001b[0m \u001b[43mbfs\u001b[49m\u001b[43m(\u001b[49m\u001b[38;5;241;43m1\u001b[39;49m\u001b[43m,\u001b[49m\u001b[38;5;241;43m1\u001b[39;49m\u001b[43m)\u001b[49m\n\u001b[0;32m     23\u001b[0m \u001b[38;5;28mprint\u001b[39m(count)\n",
      "Input \u001b[1;32mIn [4]\u001b[0m, in \u001b[0;36mbfs\u001b[1;34m(x, y)\u001b[0m\n\u001b[0;32m     13\u001b[0m queue \u001b[38;5;241m=\u001b[39m deque([x,y])\n\u001b[0;32m     14\u001b[0m maze[x][y] \u001b[38;5;241m=\u001b[39m \u001b[38;5;241m0\u001b[39m\n\u001b[1;32m---> 15\u001b[0m \u001b[38;5;28;01mwhile\u001b[39;00m \u001b[43mmaze\u001b[49m\u001b[43m[\u001b[49m\u001b[43mn\u001b[49m\u001b[43m]\u001b[49m[m]\u001b[38;5;241m==\u001b[39m\u001b[38;5;241m1\u001b[39m:\n\u001b[0;32m     16\u001b[0m     v \u001b[38;5;241m=\u001b[39m queue\u001b[38;5;241m.\u001b[39mpopleft()\n\u001b[0;32m     17\u001b[0m     \u001b[38;5;66;03m#print(v, end=' ')\u001b[39;00m\n",
      "\u001b[1;31mIndexError\u001b[0m: list index out of range"
     ]
    }
   ],
   "source": [
    "n,m = map(int, input().split())\n",
    "\n",
    "maze=[]\n",
    "\n",
    "count = 0\n",
    "\n",
    "for i in range(n):\n",
    "    maze.append(list(map(int, input())))\n",
    "    \n",
    "from collections import deque\n",
    "\n",
    "def bfs(x,y):\n",
    "    queue = deque([x,y])\n",
    "    maze[x][y] = 0\n",
    "    while maze[n][m]==1:\n",
    "        v = queue.popleft()\n",
    "        #print(v, end=' ')\n",
    "        if maze[x][y]==1:\n",
    "            maze[x][y] = 0\n",
    "            count+=1\n",
    "\n",
    "bfs(1,1)\n",
    "print(count)"
   ]
  },
  {
   "cell_type": "code",
   "execution_count": 13,
   "id": "3f4f6715",
   "metadata": {},
   "outputs": [
    {
     "name": "stdout",
     "output_type": "stream",
     "text": [
      "3 3\n",
      "110\n",
      "010\n",
      "011\n",
      "5\n"
     ]
    }
   ],
   "source": [
    "#answer\n",
    "from collections import deque\n",
    "\n",
    "n,m = map(int, input().split())\n",
    "\n",
    "graph=[]\n",
    "\n",
    "for i in range(n):\n",
    "    graph.append(list(map(int, input())))\n",
    "    \n",
    "dx = [-1,1,0,0]\n",
    "dy = [0,0,-1,1]\n",
    "\n",
    "def bfs(x,y):\n",
    "    queue = deque()\n",
    "    queue.append((x,y))\n",
    "    while queue:\n",
    "        x, y = queue.popleft()\n",
    "        for i in range(4):\n",
    "            nx = x + dx[i]\n",
    "            ny = y + dy[i]\n",
    "            if nx < 0 or nx >= n or ny < 0 or ny >= m:\n",
    "                continue\n",
    "            if graph[nx][ny] == 0:\n",
    "                continue\n",
    "            if graph[nx][ny] ==1:\n",
    "                graph[nx][ny] = graph[x][y]+1\n",
    "                queue.append((nx,ny))\n",
    "    return graph[n-1][m-1]\n",
    "\n",
    "print(bfs(0,0))"
   ]
  },
  {
   "cell_type": "markdown",
   "id": "00686999",
   "metadata": {},
   "source": [
    "DFS와 BFS 가 많이 어렵다ㅜㅜ\n",
    "이부분을 더 많이 봐야할 것 같다."
   ]
  }
 ],
 "metadata": {
  "kernelspec": {
   "display_name": "Python 3 (ipykernel)",
   "language": "python",
   "name": "python3"
  },
  "language_info": {
   "codemirror_mode": {
    "name": "ipython",
    "version": 3
   },
   "file_extension": ".py",
   "mimetype": "text/x-python",
   "name": "python",
   "nbconvert_exporter": "python",
   "pygments_lexer": "ipython3",
   "version": "3.9.12"
  }
 },
 "nbformat": 4,
 "nbformat_minor": 5
}
