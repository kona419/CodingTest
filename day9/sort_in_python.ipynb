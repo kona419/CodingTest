{
 "cells": [
  {
   "cell_type": "code",
   "execution_count": 1,
   "id": "c4b9c81b",
   "metadata": {},
   "outputs": [
    {
     "name": "stdout",
     "output_type": "stream",
     "text": [
      "[0, 1, 2, 3, 4, 5, 6, 7, 8, 9]\n"
     ]
    }
   ],
   "source": [
    "# sorted 병합 정렬 기반 라이브러리\n",
    "\n",
    "array = [7,5,9,0,3,1,6,2,4,8]\n",
    "\n",
    "result = sorted(array)\n",
    "print(result)"
   ]
  },
  {
   "cell_type": "code",
   "execution_count": 4,
   "id": "23b78265",
   "metadata": {},
   "outputs": [
    {
     "name": "stdout",
     "output_type": "stream",
     "text": [
      "[0, 1, 2, 3, 4, 5, 6, 7, 8, 9]\n"
     ]
    }
   ],
   "source": [
    "# sort() : 리스트 객체의 내장 함수\n",
    "\n",
    "array = [7,5,9,0,3,1,6,2,4,8]\n",
    "\n",
    "array.sort()\n",
    "print(array)"
   ]
  },
  {
   "cell_type": "code",
   "execution_count": 5,
   "id": "4df03328",
   "metadata": {},
   "outputs": [
    {
     "name": "stdout",
     "output_type": "stream",
     "text": [
      "[('바나나', 2), ('당근', 3), ('사과', 5)]\n"
     ]
    }
   ],
   "source": [
    "# key를 사용하기 in 튜플\n",
    "\n",
    "array = [('바나나',2),('사과',5),('당근',3)]\n",
    "\n",
    "def setting(data):\n",
    "    return data[1]  # 두번째 원소인 숫자를 기준으로\n",
    "\n",
    "result = sorted(array, key = setting)\n",
    "print(result)"
   ]
  },
  {
   "cell_type": "code",
   "execution_count": null,
   "id": "249fa12f",
   "metadata": {},
   "outputs": [],
   "source": []
  }
 ],
 "metadata": {
  "kernelspec": {
   "display_name": "Python 3 (ipykernel)",
   "language": "python",
   "name": "python3"
  },
  "language_info": {
   "codemirror_mode": {
    "name": "ipython",
    "version": 3
   },
   "file_extension": ".py",
   "mimetype": "text/x-python",
   "name": "python",
   "nbconvert_exporter": "python",
   "pygments_lexer": "ipython3",
   "version": "3.9.12"
  }
 },
 "nbformat": 4,
 "nbformat_minor": 5
}
