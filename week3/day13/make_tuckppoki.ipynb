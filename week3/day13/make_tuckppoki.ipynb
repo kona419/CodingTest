{
 "cells": [
  {
   "cell_type": "code",
   "execution_count": null,
   "id": "ae3507cf",
   "metadata": {},
   "outputs": [
    {
     "name": "stdout",
     "output_type": "stream",
     "text": [
      "4 6\n",
      "19 15 10 17\n"
     ]
    }
   ],
   "source": [
    "# my answer\n",
    "n, m = map(int, input().split())\n",
    "\n",
    "info = list(map(int, input().split()))\n",
    "\n",
    "info.sort()\n",
    "\n",
    "k=0\n",
    "\n",
    "def binary_search(array,start, end):\n",
    "    while start <= end:\n",
    "        mid = (start+end) // 2\n",
    "        global k\n",
    "        for i in range(n):\n",
    "            k += (array[mid]-array[i])\n",
    "            if k < 0:\n",
    "                continue\n",
    "        if k >= m:\n",
    "            return array[mid]\n",
    "        \n",
    "binary_search(info, 0, n-1)"
   ]
  },
  {
   "cell_type": "code",
   "execution_count": 2,
   "id": "aed3cf01",
   "metadata": {},
   "outputs": [
    {
     "name": "stdout",
     "output_type": "stream",
     "text": [
      "4 6\n",
      "19 15 10 17\n",
      "15\n"
     ]
    }
   ],
   "source": [
    "# book answer\n",
    "n, m = list(map(int, input().split()))\n",
    "\n",
    "array = list(map(int, input().split()))\n",
    "\n",
    "start = 0\n",
    "end = max(array)\n",
    "\n",
    "result = 0\n",
    "while(start<=end):\n",
    "    total = 0\n",
    "    mid = (start+end) // 2\n",
    "    for x in array:\n",
    "        if x > mid:\n",
    "            total += x - mid\n",
    "    if total < m:\n",
    "        end = mid - 1\n",
    "    else:\n",
    "        result = mid\n",
    "        start = mid + 1\n",
    "        \n",
    "print(result)"
   ]
  },
  {
   "cell_type": "markdown",
   "id": "e452dcd0",
   "metadata": {},
   "source": [
    "답을 알고보니 그리 어렵지 않은 문제였다.\n",
    "\n",
    "근데 왜 풀지 못했을까..\n",
    "\n",
    "이진탐색 문제라는 것은 알았지만 그것을 어떻게 활용할지 감이 안잡혔다. \n",
    "\n",
    "요소 별로 해볼 생각을 했는데 그게 아니라 전체적으로 봐야했었다."
   ]
  },
  {
   "cell_type": "code",
   "execution_count": null,
   "id": "dabce7d7",
   "metadata": {},
   "outputs": [],
   "source": []
  }
 ],
 "metadata": {
  "kernelspec": {
   "display_name": "Python 3 (ipykernel)",
   "language": "python",
   "name": "python3"
  },
  "language_info": {
   "codemirror_mode": {
    "name": "ipython",
    "version": 3
   },
   "file_extension": ".py",
   "mimetype": "text/x-python",
   "name": "python",
   "nbconvert_exporter": "python",
   "pygments_lexer": "ipython3",
   "version": "3.9.12"
  }
 },
 "nbformat": 4,
 "nbformat_minor": 5
}
