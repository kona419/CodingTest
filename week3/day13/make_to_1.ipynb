{
 "cells": [
  {
   "cell_type": "code",
   "execution_count": 5,
   "id": "59334f36",
   "metadata": {},
   "outputs": [
    {
     "name": "stdout",
     "output_type": "stream",
     "text": [
      "26\n",
      "1빼기 1\n",
      "5나누기 2\n",
      "1빼기 3\n",
      "2나누기 4\n",
      "1빼기 5\n",
      "5\n",
      "1.0\n"
     ]
    }
   ],
   "source": [
    "# 내 답\n",
    "\n",
    "n = int(input())\n",
    "\n",
    "count = 0\n",
    "\n",
    "while True:\n",
    "    if n%2 != 0 or n%3 != 0 or n%5 != 0 :\n",
    "        n -= 1\n",
    "        count += 1\n",
    "        print(\"1빼기\", count)\n",
    "    if n%2 == 0:\n",
    "        n = n/2\n",
    "        count += 1\n",
    "        print(\"2나누기\", count)\n",
    "    if n%3 == 0:\n",
    "        n = n/3\n",
    "        count += 1\n",
    "        print(\"3나누기\",count)\n",
    "    if n%5 == 0:\n",
    "        n = n/5\n",
    "        count += 1\n",
    "        print(\"5나누기\",count)\n",
    "    if n == 1:\n",
    "        break\n",
    "        \n",
    "print(count)\n",
    "print(n)"
   ]
  },
  {
   "cell_type": "code",
   "execution_count": 6,
   "id": "fba41466",
   "metadata": {},
   "outputs": [
    {
     "name": "stdout",
     "output_type": "stream",
     "text": [
      "7\n",
      "3\n"
     ]
    }
   ],
   "source": [
    "# book answer\n",
    "x = int(input())\n",
    "\n",
    "d = [0]*30001\n",
    "\n",
    "for i in range(2,x+1):\n",
    "    d[i] = d[i-1] + 1\n",
    "    if i%2 == 0:\n",
    "        d[i] = min(d[i], d[i//2]+1) ##\n",
    "    if i%3 == 0:\n",
    "        d[i] = min(d[i], d[i//3]+1) ##\n",
    "    if i%5 == 0:\n",
    "        d[i] = min(d[i], d[i//5]+1) ##\n",
    "        \n",
    "print(d[x])"
   ]
  },
  {
   "cell_type": "markdown",
   "id": "3e880cf0",
   "metadata": {},
   "source": [
    "이 문제를 다이나믹 프로그래밍으로 푼다는 것이 잘 이해가 안간다..\n",
    "\n",
    "여러번 봐야 할듯\n",
    "\n",
    "-> 내가 푼 방식으로 하면 1을 만들 수는 있지만 그게 연산 횟수의 최소 값이 아니다.\n",
    "\n",
    "때문에 책의 정답에서 min 값으로 비교를 한 이유가 연산 횟수의 최소를 찾으려고 한 것이다.\n",
    "\n",
    "d[i]는 1을 뺀 후 계산 했을 때의 횟수이고 d[i//2]+1 는 2,3,5로 나누어서 계산 했을 때의 횟수이다."
   ]
  }
 ],
 "metadata": {
  "kernelspec": {
   "display_name": "Python 3 (ipykernel)",
   "language": "python",
   "name": "python3"
  },
  "language_info": {
   "codemirror_mode": {
    "name": "ipython",
    "version": 3
   },
   "file_extension": ".py",
   "mimetype": "text/x-python",
   "name": "python",
   "nbconvert_exporter": "python",
   "pygments_lexer": "ipython3",
   "version": "3.9.12"
  }
 },
 "nbformat": 4,
 "nbformat_minor": 5
}
