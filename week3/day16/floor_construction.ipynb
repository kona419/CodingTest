{
 "cells": [
  {
   "cell_type": "code",
   "execution_count": null,
   "id": "a8d12303",
   "metadata": {},
   "outputs": [
    {
     "name": "stdout",
     "output_type": "stream",
     "text": [
      "3\n"
     ]
    }
   ],
   "source": [
    "# 내 답\n",
    "n = int(input())\n",
    "\n",
    "floor_x = n\n",
    "floor_y = 2\n",
    "\n",
    "x = [1,2,2]\n",
    "y = [2,1,2]\n",
    "\n",
    "count = 0\n",
    "\n",
    "while 1: #문제: 더이상 불가능할때까지 반복문을 돌려야하는데. 이걸 코드로 어떻게 구현할지 모르겠음.\n",
    "    while floor_x> 0 or floor_y > 0:\n",
    "        for i in range(n):   # 문제점: 꼭 타일을 n개만큼 쓰는 것은 아님\n",
    "            floor_x = floor_x - x[i]\n",
    "            floor_y = floor_y - y[i]\n",
    "    count+=1\n",
    "    floor_x = n\n",
    "    floor_y = 2\n",
    "\n",
    "print(count)\n"
   ]
  },
  {
   "cell_type": "code",
   "execution_count": 1,
   "id": "08a3d88c",
   "metadata": {},
   "outputs": [
    {
     "name": "stdout",
     "output_type": "stream",
     "text": [
      "3\n",
      "5\n"
     ]
    }
   ],
   "source": [
    "# 책의 답\n",
    "n = int(input())\n",
    "\n",
    "d = [0]*1001\n",
    "\n",
    "d[1] = 1\n",
    "d[2] = 3\n",
    "for i in range(3, n+1):\n",
    "    d[i] = (d[i-1]+d[i-2]*2) % 796796\n",
    "    \n",
    "print(d[n])"
   ]
  },
  {
   "cell_type": "markdown",
   "id": "fb2a9b58",
   "metadata": {},
   "source": [
    "문제를 푸는 아이디어가 부족하다.\n",
    "\n",
    "문제를 많이 풀어보면 괜찮아 지려나??\n",
    "\n",
    "다이나믹 프로그래밍의 핵심은 예전의 답을 현재의 답을 도출해내는데 써먹을 수 있냐는 것이다. 마치 라잌 재귀.\n",
    "\n",
    "그러므로 이 문제가 그러한 성격을 가지고 있는지 아닌지 판별할 줄 알아야한다.\n",
    "\n",
    "그런데 지금은 감이 안잡힌다ㅜㅜ"
   ]
  }
 ],
 "metadata": {
  "kernelspec": {
   "display_name": "Python 3 (ipykernel)",
   "language": "python",
   "name": "python3"
  },
  "language_info": {
   "codemirror_mode": {
    "name": "ipython",
    "version": 3
   },
   "file_extension": ".py",
   "mimetype": "text/x-python",
   "name": "python",
   "nbconvert_exporter": "python",
   "pygments_lexer": "ipython3",
   "version": "3.9.12"
  }
 },
 "nbformat": 4,
 "nbformat_minor": 5
}
