{
 "cells": [
  {
   "cell_type": "code",
   "execution_count": 20,
   "id": "1c32229d",
   "metadata": {},
   "outputs": [
    {
     "name": "stdout",
     "output_type": "stream",
     "text": [
      "4 6 \n",
      "19 15 10 17\n",
      "15\n"
     ]
    }
   ],
   "source": [
    "# make_tuckppoki\n",
    "# my answer\n",
    "\n",
    "n,m = list(map(int,input().split()))\n",
    "array = list(map(int, input().split()))\n",
    "\n",
    "\n",
    "def binary_search(array, target, start, end):\n",
    "    while (start<=end):\n",
    "        mid = (start+end) // 2\n",
    "        result = 0\n",
    "        for i in range(n):\n",
    "            if array[i]-mid < 0:\n",
    "                continue\n",
    "            result += (array[i]-mid)\n",
    "            \n",
    "        if result == target:\n",
    "            return mid\n",
    "        elif result > target:\n",
    "            start = mid+1\n",
    "            result = 0\n",
    "        else:\n",
    "            end = mid-1\n",
    "            result = 0\n",
    "        \n",
    "            \n",
    "answer = binary_search(array,m,0,max(array))\n",
    "print(answer)"
   ]
  },
  {
   "cell_type": "code",
   "execution_count": 22,
   "id": "6be3d45f",
   "metadata": {},
   "outputs": [
    {
     "name": "stdout",
     "output_type": "stream",
     "text": [
      "4 6\n",
      "19 15 17 10\n",
      "15\n"
     ]
    }
   ],
   "source": [
    "# make_tuckppoki\n",
    "# book answer\n",
    "\n",
    "n,m = list(map(int,input().split()))\n",
    "array = list(map(int, input().split()))\n",
    "\n",
    "start = 0\n",
    "end = max(array)\n",
    "\n",
    "while start<= end:\n",
    "    total = 0\n",
    "    mid = (start+end) // 2\n",
    "    for i in array:\n",
    "        if i > mid:\n",
    "            total += i-mid\n",
    "    if total < m:\n",
    "        end = mid-1\n",
    "    else:\n",
    "        result = mid\n",
    "        start = mid+1\n",
    "        \n",
    "print(result)"
   ]
  },
  {
   "cell_type": "markdown",
   "id": "1f3416df",
   "metadata": {},
   "source": [
    "- 떡볶이 떡 만들기\n",
    "\n",
    "나는 이진 탐색을 하는 함수를 만들어 사용하였다. 주어진 길이와 중간값의 차이를 모두 더한 것이 target과 같다면 그 중간값을 출력하도록 하였다. 이때 차이값이 음수라면 더하지 않도록 예외문을 설정해주어야 한다.\n",
    "\n",
    "책의 답은 함수를 사용하진 않고 이진탐색의 아이디어를 사용하였다. 주어진 길이가 중간값보다 길면 뺄셈을 예산 하도록하였다.\n",
    "\n",
    "책처럼 하면 따로 예외문을 설정해주지 않아도 되어서 훨씬 간결한 코드가 나온다."
   ]
  },
  {
   "cell_type": "code",
   "execution_count": 27,
   "id": "1d9bca07",
   "metadata": {},
   "outputs": [
    {
     "name": "stdout",
     "output_type": "stream",
     "text": [
      "26\n",
      "3\n"
     ]
    }
   ],
   "source": [
    "# make_to_1 \n",
    "\n",
    "n = int(input())\n",
    "\n",
    "d = [0]*30001\n",
    "\n",
    "for i in range(2, n+1):\n",
    "    d[i] = d[i-1]+1\n",
    "    \n",
    "    if i%5 == 0:\n",
    "        d[i] = min(d[i],d[i//5]+1)\n",
    "    elif i%3 == 0:\n",
    "        d[i] = min(d[i],d[i//3]+1)\n",
    "    elif i%2 == 0:\n",
    "        d[i] = min(d[i],d[i//2]+1)\n",
    "\n",
    "print(d[n])"
   ]
  },
  {
   "cell_type": "code",
   "execution_count": 30,
   "id": "fb6859a1",
   "metadata": {},
   "outputs": [
    {
     "name": "stdout",
     "output_type": "stream",
     "text": [
      "4\n",
      "3 1 5 1\n",
      "8\n"
     ]
    }
   ],
   "source": [
    "# ant_soldier\n",
    "\n",
    "n = int(input())\n",
    "array = list(map(int, input().split()))\n",
    "\n",
    "d = [0]*100\n",
    "\n",
    "d[0] = array[0]\n",
    "d[1] = max(array[0], array[1])\n",
    "\n",
    "for i in range(2,n):\n",
    "    d[i] = max(d[i-1], d[i-2]+array[i])\n",
    "    \n",
    "print(d[n-1])"
   ]
  },
  {
   "cell_type": "code",
   "execution_count": 33,
   "id": "df17bd5c",
   "metadata": {},
   "outputs": [
    {
     "name": "stdout",
     "output_type": "stream",
     "text": [
      "5\n",
      "21\n"
     ]
    }
   ],
   "source": [
    "# floor_construction\n",
    "\n",
    "n = int(input())\n",
    "\n",
    "d = [0]*1001\n",
    "\n",
    "d[1]=1\n",
    "d[2]=3\n",
    "\n",
    "for i in range(3, n+1):\n",
    "    d[i] = (d[i-1]+d[i-2]*2) % 796796\n",
    "    \n",
    "print(d[n])"
   ]
  },
  {
   "cell_type": "code",
   "execution_count": 34,
   "id": "ea9a6acb",
   "metadata": {},
   "outputs": [
    {
     "name": "stdout",
     "output_type": "stream",
     "text": [
      "2 15\n",
      "2\n",
      "3\n",
      "5\n"
     ]
    }
   ],
   "source": [
    "# money_composition\n",
    "\n",
    "n,m = map(int, input().split())\n",
    "array=[]\n",
    "for i in range(n):\n",
    "    array.append(int(input()))\n",
    "    \n",
    "d = [1001]*(m+1)\n",
    "\n",
    "d[0]=0\n",
    "for i in range(n):\n",
    "    for j in range(array[i], m+1):\n",
    "        if d[j-array[i]] != 10001:\n",
    "            d[j] = min(d[j], d[j-array[i]]+1)\n",
    "\n",
    "if d[m] == 10001:\n",
    "    print(-1)\n",
    "else:\n",
    "    print(d[m])"
   ]
  },
  {
   "cell_type": "code",
   "execution_count": null,
   "id": "3620f29c",
   "metadata": {},
   "outputs": [],
   "source": []
  }
 ],
 "metadata": {
  "kernelspec": {
   "display_name": "Python 3 (ipykernel)",
   "language": "python",
   "name": "python3"
  },
  "language_info": {
   "codemirror_mode": {
    "name": "ipython",
    "version": 3
   },
   "file_extension": ".py",
   "mimetype": "text/x-python",
   "name": "python",
   "nbconvert_exporter": "python",
   "pygments_lexer": "ipython3",
   "version": "3.9.12"
  }
 },
 "nbformat": 4,
 "nbformat_minor": 5
}
