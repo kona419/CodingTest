{
 "cells": [
  {
   "cell_type": "code",
   "execution_count": 15,
   "id": "7e9a4816",
   "metadata": {},
   "outputs": [
    {
     "name": "stdout",
     "output_type": "stream",
     "text": [
      "3 2 1\n",
      "1 2 4\n",
      "1 3 2\n",
      "2 4 "
     ]
    }
   ],
   "source": [
    "# 나의 답\n",
    "\n",
    "import heapq\n",
    "\n",
    "INF = int(1e9)\n",
    "\n",
    "n,m,c = map(int, input().split())\n",
    "\n",
    "graph = [[] for i in range (n+1)]\n",
    "\n",
    "time = [INF] * (n+1)\n",
    "\n",
    "count = 0\n",
    "max_time =[]\n",
    "\n",
    "for _ in range(m):\n",
    "    x,y,z = map(int,input().split())\n",
    "    graph[x].append((y,z))\n",
    "    \n",
    "def dijkstra (start):\n",
    "    q = []\n",
    "    heapq.heappush(q, (0, start))\n",
    "    time[start] = 0\n",
    "    while q:\n",
    "        t, now = heapq.heappop(q)\n",
    "        if time[now] < t:\n",
    "            continue\n",
    "        for i in graph[now]:\n",
    "            cost = t + i[1]\n",
    "            if cost < time[i[0]]:\n",
    "                time[i[0]] = cost\n",
    "                heapq.heappush(q, (cost, i[0]))\n",
    "dijkstra(c)\n",
    "\n",
    "for i in range(1, n+1):\n",
    "    if time[i] == INF:\n",
    "        print('no')\n",
    "    else:\n",
    "        count+=1\n",
    "        max_time.append(time[i])\n",
    "print(count-1, end=' ')\n",
    "print(max(max_time), end=' ')"
   ]
  },
  {
   "cell_type": "code",
   "execution_count": 18,
   "id": "968c6158",
   "metadata": {},
   "outputs": [
    {
     "name": "stdout",
     "output_type": "stream",
     "text": [
      "3 2 1\n",
      "1 2 4\n",
      "1 3 2\n",
      "2 4\n"
     ]
    }
   ],
   "source": [
    "# 책의 답\n",
    "\n",
    "import heapq\n",
    "\n",
    "INF = int(1e9)\n",
    "\n",
    "n,m,c = map(int, input().split())\n",
    "\n",
    "graph = [[] for i in range (n+1)]\n",
    "\n",
    "time = [INF] * (n+1)\n",
    "\n",
    "count = 0\n",
    "max_time = 0\n",
    "\n",
    "for _ in range(m):\n",
    "    x,y,z = map(int,input().split())\n",
    "    graph[x].append((y,z))\n",
    "    \n",
    "def dijkstra (start):\n",
    "    q = []\n",
    "    heapq.heappush(q, (0, start))\n",
    "    time[start] = 0\n",
    "    while q:\n",
    "        t, now = heapq.heappop(q)\n",
    "        if time[now] < t:\n",
    "            continue\n",
    "        for i in graph[now]:\n",
    "            cost = t + i[1]\n",
    "            if cost < time[i[0]]:\n",
    "                time[i[0]] = cost\n",
    "                heapq.heappush(q, (cost, i[0]))\n",
    "dijkstra(c)\n",
    "\n",
    "for d in time:\n",
    "    if d != INF:\n",
    "        count+=1\n",
    "        max_time = max(max_time,d)\n",
    "\n",
    "print(count-1 , max_time)"
   ]
  },
  {
   "cell_type": "markdown",
   "id": "4b01a274",
   "metadata": {},
   "source": [
    "아직 다익스트라 알고리즘에 익숙하지 않아 책 앞 쪽에 있는 알고리즘을 참고하여 풀었다.\n",
    "\n",
    "내답과 책의 답이 다른 부분은 나는 걸리는 시간 값을 받는 리스트를 따로 만들어 거기서 최대값을 출력하였고,\n",
    "\n",
    "책은 이미 리스트로 있는 time 안에서 최대값을 출력하였다"
   ]
  },
  {
   "cell_type": "code",
   "execution_count": null,
   "id": "b90e4b4e",
   "metadata": {},
   "outputs": [],
   "source": []
  }
 ],
 "metadata": {
  "kernelspec": {
   "display_name": "Python 3 (ipykernel)",
   "language": "python",
   "name": "python3"
  },
  "language_info": {
   "codemirror_mode": {
    "name": "ipython",
    "version": 3
   },
   "file_extension": ".py",
   "mimetype": "text/x-python",
   "name": "python",
   "nbconvert_exporter": "python",
   "pygments_lexer": "ipython3",
   "version": "3.9.12"
  }
 },
 "nbformat": 4,
 "nbformat_minor": 5
}
