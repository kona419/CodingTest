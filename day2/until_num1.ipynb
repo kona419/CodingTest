{
 "cells": [
  {
   "cell_type": "code",
   "execution_count": 7,
   "id": "0e7895a5",
   "metadata": {},
   "outputs": [
    {
     "name": "stdout",
     "output_type": "stream",
     "text": [
      "12 5\n",
      "1\n"
     ]
    }
   ],
   "source": [
    "#내 답\n",
    "n, k = map(int, input().split())\n",
    "\n",
    "count = 0\n",
    "\n",
    "while n >= k:\n",
    "    if n%k == 0 :\n",
    "        n = n // k\n",
    "        count += 1\n",
    "        \n",
    "    else:\n",
    "        while n % k == 0:\n",
    "            n = n-1\n",
    "            count+=1\n",
    "            \n",
    "        n = n // k\n",
    "        count += 1\n",
    "        \n",
    "\n",
    "print(count)\n",
    "\n",
    "#내가 생각한 풀이 : 만약 k가 n의 약수라면 계속 나누기만 하면 끝.\n",
    "#                   만약 약수가 아니라면 약수가 될때 까지 1씩 빼고 그 때 나누기."
   ]
  },
  {
   "cell_type": "code",
   "execution_count": 3,
   "id": "8b19fec7",
   "metadata": {},
   "outputs": [
    {
     "name": "stdout",
     "output_type": "stream",
     "text": [
      "12 5\n",
      "4\n"
     ]
    }
   ],
   "source": [
    "#정답\n",
    "\n",
    "n, k = map(int, input().split())\n",
    "\n",
    "count = 0\n",
    "\n",
    "while n >= k:\n",
    "    while n%k != 0:\n",
    "        n -= 1\n",
    "        count +=1\n",
    "    n = n // k\n",
    "    count += 1\n",
    "\n",
    "while n > 1:\n",
    "    n -= 1\n",
    "    count += 1\n",
    "    \n",
    "print(count)"
   ]
  },
  {
   "cell_type": "markdown",
   "id": "24453048",
   "metadata": {},
   "source": [
    "정답에 거의 다 왔다.\n",
    "else 안에 있는 while의 조건문을 != 로 해야하는데 ==으로 해서 그랬다.\n",
    "약수가 될때 까지 while문을 돌아라 라고 생각해서 == 이라고 했는데\n",
    "약수가 아닐동안 while 문을 돌아라 라고 해서 != 였어야 했다.\n",
    "\n",
    "그리고 마지막에 1 빼는 것도 놏쳤다..\n",
    "\n",
    "디테일만 잡았더라면 충분히 맞힐 수 있는 문제였다.. 아까비ㅜㅜ"
   ]
  },
  {
   "cell_type": "code",
   "execution_count": 9,
   "id": "475ee907",
   "metadata": {},
   "outputs": [
    {
     "name": "stdout",
     "output_type": "stream",
     "text": [
      "12 5\n",
      "4\n"
     ]
    }
   ],
   "source": [
    "# n 이 100억 이상 되는 큰 수 일때의 정답\n",
    "\n",
    "n, k = map(int, input().split())\n",
    "\n",
    "count = 0\n",
    "\n",
    "while True :\n",
    "    target = (n//k)*k   ##\n",
    "    count += (n-target) ##\n",
    "    n = target\n",
    "    \n",
    "    if n<k :\n",
    "        break\n",
    "        \n",
    "    n //= k\n",
    "    count += 1\n",
    "    \n",
    "count += (n-1)\n",
    "print(count)"
   ]
  },
  {
   "cell_type": "markdown",
   "id": "6625b3a7",
   "metadata": {},
   "source": [
    "##이 달린 두 줄로 약수가 될때까지 빼는 것을 한방에 대체한 방법이다."
   ]
  }
 ],
 "metadata": {
  "kernelspec": {
   "display_name": "Python 3 (ipykernel)",
   "language": "python",
   "name": "python3"
  },
  "language_info": {
   "codemirror_mode": {
    "name": "ipython",
    "version": 3
   },
   "file_extension": ".py",
   "mimetype": "text/x-python",
   "name": "python",
   "nbconvert_exporter": "python",
   "pygments_lexer": "ipython3",
   "version": "3.9.12"
  }
 },
 "nbformat": 4,
 "nbformat_minor": 5
}
