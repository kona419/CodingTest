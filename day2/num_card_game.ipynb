{
 "cells": [
  {
   "cell_type": "code",
   "execution_count": 7,
   "id": "468b34b8",
   "metadata": {},
   "outputs": [
    {
     "name": "stdout",
     "output_type": "stream",
     "text": [
      "2 4 \n",
      "7 3 1 8\n",
      "3 3 3 4\n",
      "3\n"
     ]
    }
   ],
   "source": [
    "#내 답\n",
    "n, m = map(int, input().split())\n",
    "\n",
    "ans = []\n",
    "\n",
    "for i in range(n):\n",
    "    card = list(map(int, input().split()))\n",
    "    min_card = min(card)\n",
    "    ans.append(min_card)\n",
    "    \n",
    "print(max(ans))\n",
    "    "
   ]
  },
  {
   "cell_type": "code",
   "execution_count": 12,
   "id": "ed03c9c8",
   "metadata": {},
   "outputs": [
    {
     "name": "stdout",
     "output_type": "stream",
     "text": [
      "3 3 \n",
      "1 2 3\n",
      "4 5 6\n",
      "7 8 9\n",
      "7\n"
     ]
    }
   ],
   "source": [
    "# 정답1\n",
    "n, m = map(int, input().split())\n",
    "result = 0\n",
    "\n",
    "for i in range(n):\n",
    "    data = list(map(int, input().split()))\n",
    "    min_value = min(data)\n",
    "    result = max(result, min_value) #max 함수 앞에 result 붙이는 이유는 min_value가 int 라서.\n",
    "    \n",
    "print(result)"
   ]
  },
  {
   "cell_type": "code",
   "execution_count": 13,
   "id": "3a0e922b",
   "metadata": {},
   "outputs": [
    {
     "name": "stdout",
     "output_type": "stream",
     "text": [
      "3 3\n",
      "1 2 3\n",
      "4 5 6\n",
      "7 8 9\n",
      "7\n"
     ]
    }
   ],
   "source": [
    "#정답 2 이중for문\n",
    "n, m = map(int, input().split())\n",
    "\n",
    "result = 0\n",
    "for i in range(n):\n",
    "    data = list(map(int, input().split()))\n",
    "    min_value = 10001\n",
    "    for a in data :\n",
    "        min_value = min(min_value,a)\n",
    "    result = max(result, min_value)\n",
    "print(result)"
   ]
  },
  {
   "cell_type": "markdown",
   "id": "564c2d56",
   "metadata": {},
   "source": [
    "이중 for 문은 굳이? 라는 느낌이다. \n",
    "min,max 함수 쓸때는 리스트 타입이 편할거 같다. 근데 리스트가 아닐 경우도 있으니 int형일 때는 변수 한번 더 써주기!!"
   ]
  },
  {
   "cell_type": "code",
   "execution_count": null,
   "id": "db6cf19b",
   "metadata": {},
   "outputs": [],
   "source": []
  }
 ],
 "metadata": {
  "kernelspec": {
   "display_name": "Python 3 (ipykernel)",
   "language": "python",
   "name": "python3"
  },
  "language_info": {
   "codemirror_mode": {
    "name": "ipython",
    "version": 3
   },
   "file_extension": ".py",
   "mimetype": "text/x-python",
   "name": "python",
   "nbconvert_exporter": "python",
   "pygments_lexer": "ipython3",
   "version": "3.9.12"
  }
 },
 "nbformat": 4,
 "nbformat_minor": 5
}
